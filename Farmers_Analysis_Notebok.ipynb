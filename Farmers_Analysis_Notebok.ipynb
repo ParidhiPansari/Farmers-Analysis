{
  "nbformat": 4,
  "nbformat_minor": 0,
  "metadata": {
    "colab": {
      "provenance": []
    },
    "kernelspec": {
      "name": "python3",
      "display_name": "Python 3"
    },
    "language_info": {
      "name": "python"
    }
  },
  "cells": [
    {
      "cell_type": "code",
      "source": [
        "!pip install pyspark"
      ],
      "metadata": {
        "id": "4qdw1AYmOhWr",
        "colab": {
          "base_uri": "https://localhost:8080/"
        },
        "outputId": "94734a24-d4ec-42d8-c63f-d3b38b85d959"
      },
      "execution_count": null,
      "outputs": [
        {
          "output_type": "stream",
          "name": "stdout",
          "text": [
            "Collecting pyspark\n",
            "  Downloading pyspark-3.4.1.tar.gz (310.8 MB)\n",
            "\u001b[2K     \u001b[90m━━━━━━━━━━━━━━━━━━━━━━━━━━━━━━━━━━━━━━━\u001b[0m \u001b[32m310.8/310.8 MB\u001b[0m \u001b[31m4.4 MB/s\u001b[0m eta \u001b[36m0:00:00\u001b[0m\n",
            "\u001b[?25h  Preparing metadata (setup.py) ... \u001b[?25l\u001b[?25hdone\n",
            "Requirement already satisfied: py4j==0.10.9.7 in /usr/local/lib/python3.10/dist-packages (from pyspark) (0.10.9.7)\n",
            "Building wheels for collected packages: pyspark\n",
            "  Building wheel for pyspark (setup.py) ... \u001b[?25l\u001b[?25hdone\n",
            "  Created wheel for pyspark: filename=pyspark-3.4.1-py2.py3-none-any.whl size=311285388 sha256=df7462d561cf30dd16f128ff7c5e3b436194dab691e0e0deaeb769e305236376\n",
            "  Stored in directory: /root/.cache/pip/wheels/0d/77/a3/ff2f74cc9ab41f8f594dabf0579c2a7c6de920d584206e0834\n",
            "Successfully built pyspark\n",
            "Installing collected packages: pyspark\n",
            "Successfully installed pyspark-3.4.1\n"
          ]
        }
      ]
    },
    {
      "cell_type": "code",
      "source": [
        "from pyspark.sql import SparkSession\n",
        "from pyspark import ml\n",
        "from pyspark.ml.evaluation import RegressionEvaluator\n",
        "from pyspark.ml.feature import StringIndexer, VectorAssembler\n",
        "from pyspark.ml import Pipeline\n",
        "from pyspark.ml.regression import LinearRegression, DecisionTreeRegressor, RandomForestRegressor, GBTRegressor\n",
        "from pyspark.sql.functions import when, col, isnan, count, mean\n",
        "import pyspark.sql.types as pyspark_type"
      ],
      "metadata": {
        "id": "J5NzYzVtOf3n"
      },
      "execution_count": null,
      "outputs": []
    },
    {
      "cell_type": "code",
      "source": [
        "# Create a SparkSession\n",
        "spark_sess= SparkSession.builder.appName(\"Farmers Market Analysis\").getOrCreate()\n",
        "\n",
        "dataframe = spark_sess.read.csv(\"/content/data/farmers_markets_from_usda.csv\", header=True, inferSchema=True)"
      ],
      "metadata": {
        "id": "YVjumv-nQbT9"
      },
      "execution_count": null,
      "outputs": []
    },
    {
      "cell_type": "code",
      "source": [
        "dataframe.show()"
      ],
      "metadata": {
        "id": "ElE-YYHkQ0xi",
        "outputId": "e8be8f1f-c206-4f72-eec0-47bae6e7613a",
        "colab": {
          "base_uri": "https://localhost:8080/"
        }
      },
      "execution_count": null,
      "outputs": [
        {
          "output_type": "stream",
          "name": "stdout",
          "text": [
            "+-------+--------------------+--------------------+--------------------+--------------------+--------------------+--------------------+--------------------+------------+--------------------+--------------------+-----+--------------------+--------------------+--------------------+--------------------+-----------+-----------+-----------+-----------+----------+---------+--------------------+------+---+-------+-----+----+-------+----------+------+------+-------+----+-------+-----+----------+-----+----+-----+----+-------+----+------+-------+--------+----+-----+----+------+-----+------+------+------+---------+-------+----+-------------+----------------+\n",
            "|   FMID|          MarketName|             Website|            Facebook|             Twitter|             Youtube|          OtherMedia|              street|        city|              County|               State|  zip|         Season1Date|         Season1Time|         Season2Date|         Season2Time|Season3Date|Season3Time|Season4Date|Season4Time|         x|        y|            Location|Credit|WIC|WICcash|SFMNP|SNAP|Organic|Bakedgoods|Cheese|Crafts|Flowers|Eggs|Seafood|Herbs|Vegetables|Honey|Jams|Maple|Meat|Nursery|Nuts|Plants|Poultry|Prepared|Soap|Trees|Wine|Coffee|Beans|Fruits|Grains|Juices|Mushrooms|PetFood|Tofu|WildHarvested|      updateTime|\n",
            "+-------+--------------------+--------------------+--------------------+--------------------+--------------------+--------------------+--------------------+------------+--------------------+--------------------+-----+--------------------+--------------------+--------------------+--------------------+-----------+-----------+-----------+-----------+----------+---------+--------------------+------+---+-------+-----+----+-------+----------+------+------+-------+----+-------+-----+----------+-----+----+-----+----+-------+----+------+-------+--------+----+-----+----+------+-----+------+------+------+---------+-------+----+-------------+----------------+\n",
            "|1018261| Caledonia Farmer...|https://sites.goo...|https://www.faceb...|                null|                null|                null|                null|    Danville|           Caledonia|             Vermont| 5828|06/14/2017 to 08/...|Wed: 9:00 AM-1:00...|09/06/2017 to 10/...|Wed: 2:00 PM-6:00...|       null|       null|       null|       null|-72.140335|44.411037|                null|     Y|  Y|      N|    Y|   N|      Y|         Y|     Y|     Y|      Y|   Y|      N|    Y|         Y|    Y|   Y|    Y|   Y|      N|   N|     N|      Y|       Y|   Y|    Y|   N|     Y|    Y|     Y|     N|     N|        Y|      Y|   N|            N| 6/20/2017 22:43|\n",
            "|1018318| Stearns Homestea...|http://www.Stearn...|StearnsHomesteadF...|                null|                null|                null|     6975 Ridge Road|      Parma |            Cuyahoga|                Ohio| null|06/24/2017 to 09/...|Sat: 9:00 AM-1:00...|                null|                null|       null|       null|       null|       null| -81.73394|41.374802|                null|     Y|  N|      N|    Y|   N|      -|         Y|     N|     Y|      Y|   Y|      N|    Y|         Y|    Y|   Y|    Y|   N|      N|   N|     N|      Y|       N|   Y|    N|   N|     N|    N|     Y|     N|     N|        N|      N|   N|            N| 6/21/2017 17:15|\n",
            "|1009364|106 S. Main Stree...|http://thetownofs...|                null|                null|                null|                null|  106 S. Main Street|    Six Mile|             Pickens|      South Carolina|29682|                null|                null|                null|                null|       null|       null|       null|       null|-82.818703|34.804199|                null|     Y|  N|      N|    N|   N|      -|      null|  null|  null|   null|null|   null| null|      null| null|null| null|null|   null|null|  null|   null|    null|null| null|null|  null| null|  null|  null|  null|     null|   null|null|         null|            2013|\n",
            "|1010691|10th Steet Commun...|                null|                null|                null|                null|http://agrimissou...|10th Street and P...|      Lamar |              Barton|            Missouri|64759|04/02/2014 to 11/...|Wed: 3:00 PM-6:00...|                null|                null|       null|       null|       null|       null| -94.27462|37.495628|                null|     Y|  N|      N|    N|   N|      -|         Y|     N|     Y|      N|   Y|      N|    Y|         Y|    Y|   Y|    N|   Y|      N|   N|     Y|      Y|       Y|   Y|    N|   N|     N|    N|     Y|     N|     N|        N|      N|   N|            N| 10/28/2014 9:49|\n",
            "|1002454|112st Madison Avenue|                null|                null|                null|                null|                null|112th Madison Avenue|    New York|            New York|            New York|10029|    July to November|Tue:8:00 am - 5:0...|                null|                null|       null|       null|       null|       null|-73.949303|  40.7939|Private business ...|     N|  N|      Y|    Y|   N|      -|         Y|     N|     Y|      Y|   N|      N|    Y|         Y|    Y|   Y|    N|   N|      N|   Y|     N|      N|       Y|   Y|    N|   N|     N|    N|     N|     N|     N|        N|      N|   N|            N|  3/1/2012 10:38|\n",
            "|1011100|12 South Farmers ...|http://www.12sout...|12_South_Farmers_...|     @12southfrmsmkt|                null|     @12southfrmsmkt|3000 Granny White...|   Nashville|            Davidson|           Tennessee|37204|05/05/2015 to 10/...|Tue: 3:30 PM-6:30...|                null|                null|       null|       null|       null|       null| -86.79071| 36.11837|                null|     Y|  N|      N|    N|   Y|      Y|         Y|     Y|     N|      Y|   Y|      N|    Y|         Y|    Y|   Y|    Y|   Y|      N|   N|     N|      Y|       Y|   Y|    N|   N|     Y|    N|     Y|     N|     Y|        Y|      Y|   N|            N|  5/1/2015 10:40|\n",
            "|1009845|125th Street Fres...|http://www.125thS...|https://www.faceb...|https://twitter.c...|                null|Instagram--> 125t...|163 West 125th St...|    New York|            New York|            New York|10027|06/10/2014 to 11/...|Tue: 10:00 AM-7:0...|                null|                null|       null|       null|       null|       null| -73.94825|40.808952|Federal/State gov...|     Y|  Y|      N|    Y|   Y|      Y|         Y|     Y|     Y|      Y|   Y|      N|    Y|         Y|    Y|   Y|    Y|   Y|      N|   Y|     N|      Y|       Y|   Y|    N|   Y|     Y|    N|     Y|     N|     Y|        N|      N|   N|            N|  4/7/2014 16:32|\n",
            "|1005586|12th & Brandywine...|                null|https://www.faceb...|                null|                null|https://www.faceb...|12th & Brandywine...|  Wilmington|          New Castle|            Delaware|19801|05/16/2014 to 10/...|Fri: 8:00 AM-11:0...|                null|                null|       null|       null|       null|       null|-75.534462|39.742119|On a farm from: a...|     N|  N|      N|    N|   Y|      N|         N|     N|     N|      N|   N|      N|    Y|         Y|    N|   N|    N|   N|      N|   N|     N|      N|       N|   N|    N|   N|     N|    N|     Y|     N|     N|        N|      N|   N|            N|  4/3/2014 15:43|\n",
            "|1008071|14&U Farmers' Market|                null|https://www.faceb...|https://twitter.c...|                null|                null|   1400 U Street NW |  Washington|District of Columbia|District of Columbia|20009|05/03/2014 to 11/...|Sat: 9:00 AM-1:00...|                null|                null|       null|       null|       null|       null|-77.032051|   38.917|               Other|     Y|  Y|      Y|    Y|   Y|      Y|         Y|     Y|     N|      Y|   Y|      N|    Y|         Y|    Y|   Y|    N|   Y|      N|   Y|     Y|      Y|       N|   N|    N|   N|     N|    Y|     Y|     Y|     Y|        N|      N|   N|            N|  4/5/2014 13:49|\n",
            "|1012710|14th & Kennedy St...|                null|https://www.faceb...|             14KenFM|                null|   instagram:14kenfm|5500 Colorado Ave...| Washington |District of Columbia|District of Columbia|20011|04/09/2016 to 11/...|Sat: 9:00 AM-1:00...|                null|                null|       null|       null|       null|       null|-77.033447|38.955978|                null|     Y|  Y|      Y|    Y|   Y|      N|         Y|     N|     Y|      Y|   Y|      N|    Y|         Y|    Y|   Y|    N|   Y|      N|   N|     N|      Y|       Y|   N|    N|   N|     Y|    N|     Y|     N|     N|        N|      Y|   N|            N| 7/20/2016 11:16|\n",
            "|1019157|16th Ave Farmers ...|http://16thavefar...|                null|                null|                null|                null|NE 16th Ave & Bro...|    Portland|           Multnomah|              Oregon|97212|06/03/2018 to 10/...|Sun: 9:00 AM-1:30...|                null|                null|       null|       null|       null|       null|-122.64944|45.534496|                null|     Y|  Y|      Y|    Y|   N|      -|         Y|     N|     Y|      Y|   N|      N|    N|         Y|    Y|   Y|    N|   N|      N|   N|     Y|      N|       Y|   Y|    Y|   N|     Y|    N|     Y|     N|     N|        N|      N|   N|            Y|  7/5/2018 17:00|\n",
            "|1018792|      170 Farm Stand|                null|https://www.faceb...|https://twitter.c...|https://www.youtu...|https://www.insta...|NE Corner of 170t...|       Bronx|               Bronx|            New York|10452|07/05/2017 to 11/...|Wed: 2:30 PM-6:30...|                null|                null|       null|       null|       null|       null|-73.916786|40.839886|                null|     Y|  N|      Y|    Y|   Y|      -|         N|     N|     N|      N|   Y|      N|    N|         Y|    Y|   N|    N|   N|      N|   N|     N|      N|       N|   N|    N|   N|     N|    Y|     Y|     Y|     N|        Y|      N|   N|            N|  8/7/2017 16:11|\n",
            "|1016782|175th Street Gree...|https://www.grown...|https://www.faceb...|                null|                null|                null|175th Street betw...|   New York |            New York|            New York|10033|06/29/2017 to 11/...|Tue: 8:00 AM-6:00...|                null|                null|       null|       null|       null|       null|-73.938049|40.846355|                null|     Y|  Y|      Y|    Y|   Y|      N|         Y|     Y|     N|      Y|   Y|      Y|    Y|         Y|    Y|   Y|    N|   N|      N|   N|     N|      N|       N|   N|    N|   N|     N|    N|     Y|     Y|     Y|        N|      N|   N|            N|12/16/2016 12:06|\n",
            "|1003877|     17th Ave Market|http://www.iatp.o...|                null|                null|                null|                null|      1622 6th St NE| Minneapolis|            Hennepin|           Minnesota|55413|   June to September|Wed:3:00 pm - 7:0...|                null|                null|       null|       null|       null|       null|-93.259102|45.004398|Faith-based insti...|     N|  Y|      Y|    Y|   N|      -|         N|     N|     N|      N|   N|      N|    Y|         N|    N|   N|    N|   N|      N|   N|     N|      N|       N|   N|    N|   N|     N|    N|     N|     N|     N|        N|      N|   N|            N| 4/28/2011 14:33|\n",
            "|1016784|17th Street Farme...|http://enrichmond...|https://www.faceb...|                null|                null|                null|  100 North 17th St.|   Richmond |       Richmond City|            Virginia|23219|      06/08/2017 to |Thu: 3:00 PM-6:30...|                null|                null|       null|       null|       null|       null|-77.428368|37.533852|                null|     Y|  N|      N|    N|   Y|      -|         Y|     Y|     N|      N|   Y|      Y|    Y|         Y|    Y|   Y|    N|   Y|      N|   N|     N|      Y|       N|   Y|    N|   N|     Y|    N|     Y|     N|     N|        Y|      N|   N|            N|12/29/2016 12:13|\n",
            "|1010968|18th and Christia...|http://thefoodtru...|                null|                null|                null|                null|18th Street and C...|Philadelphia|        Philadelphia|        Pennsylvania|19146|06/01/2015 to 11/...|Thu: 3:00 PM-7:00...|                null|                null|       null|       null|       null|       null|-75.173431|39.940945|                null|     Y|  Y|      N|    Y|   Y|      N|         N|     N|     N|      N|   N|      N|    N|         Y|    N|   N|    N|   N|      N|   N|     N|      N|       N|   N|    N|   N|     N|    N|     Y|     N|     N|        N|      N|   N|            N| 3/24/2015 15:33|\n",
            "|1009994|18th Street Farme...|                null|https://www.faceb...|                null|                null|                null|   18th and Broadway| Scottsbluff|        Scotts Bluff|            Nebraska|69361|06/07/2014 to 09/...|Sat: 8:00 AM-11:0...|                null|                null|       null|       null|       null|       null|-103.66254|41.864269|                null|     Y|  N|      N|    N|   N|      Y|         Y|     Y|     Y|      Y|   Y|      N|    Y|         Y|    Y|   N|    N|   Y|      N|   N|     Y|      Y|       Y|   N|    N|   N|     Y|    Y|     Y|     N|     N|        N|      N|   N|            N| 6/29/2016 16:32|\n",
            "|1018365|18th Street Farme...|                null|18th Street Farme...|                null|                null|                null|     825 18th Street| Charleston |               Coles|            Illinois|61920|05/20/2017 to 09/...|Sat: 8:00 AM-12:0...|                null|                null|       null|       null|       null|       null|-88.162239|39.490715|                null|     Y|  Y|      N|    Y|   Y|      -|         Y|     N|     Y|      Y|   N|      N|    Y|         Y|    Y|   Y|    N|   N|      N|   N|     Y|      N|       N|   Y|    N|   N|     N|    N|     Y|     N|     N|        N|      N|   N|            N|  6/23/2017 8:02|\n",
            "|1012790|19/27 Community F...|                null|https://www.faceb...|                null|                null|                null|          NE 7th Ave|   Chiefland|                Levy|             Florida|32626|09/03/2016 to 06/...|Sat: 8:30 AM-1:00...|09/02/2017 to 06/...|Sat: 8:30 AM-1:00...|       null|       null|       null|       null|-82.857872|29.484854|                null|     Y|  N|      N|    N|   N|      -|         Y|     Y|     Y|      N|   Y|      N|    Y|         Y|    Y|   Y|    N|   Y|      N|   N|     Y|      Y|       Y|   Y|    Y|   N|     N|    Y|     Y|     Y|     N|        Y|      Y|   N|            N| 8/19/2016 16:07|\n",
            "|1012158|21 Acres Farm Market|  http://21acres.org|https://www.faceb...|            @21acres|21AcresCenter's c...|  Instagram @21acres|13701 NE 171st St...| Woodinville|                King|          Washington|98072|01/01/2016 to 12/...|Wed: 11:00 AM-6:0...|                null|                null|       null|       null|       null|       null|-122.15699| 47.75024|                null|     Y|  N|      N|    N|   Y|      Y|         Y|     Y|     N|      N|   Y|      Y|    Y|         N|    Y|   Y|    N|   Y|      N|   Y|     N|      Y|       Y|   N|    N|   N|     Y|    Y|     Y|     Y|     Y|        Y|      N|   N|            N| 6/30/2016 19:50|\n",
            "+-------+--------------------+--------------------+--------------------+--------------------+--------------------+--------------------+--------------------+------------+--------------------+--------------------+-----+--------------------+--------------------+--------------------+--------------------+-----------+-----------+-----------+-----------+----------+---------+--------------------+------+---+-------+-----+----+-------+----------+------+------+-------+----+-------+-----+----------+-----+----+-----+----+-------+----+------+-------+--------+----+-----+----+------+-----+------+------+------+---------+-------+----+-------------+----------------+\n",
            "only showing top 20 rows\n",
            "\n"
          ]
        }
      ]
    },
    {
      "cell_type": "code",
      "source": [
        "# Print the number of rows in the dataframe\n",
        "print('Number of rows:', dataframe.count())\n",
        "\n",
        "# Print the number of columns in the dataframe\n",
        "print('Number of columns:', len(dataframe.columns))"
      ],
      "metadata": {
        "id": "yYz_u-VIRBxJ",
        "outputId": "71f660cb-5a16-4caf-9686-7b4bc4dd9fbc",
        "colab": {
          "base_uri": "https://localhost:8080/"
        }
      },
      "execution_count": null,
      "outputs": [
        {
          "output_type": "stream",
          "name": "stdout",
          "text": [
            "Number of rows: 8804\n",
            "Number of columns: 59\n"
          ]
        }
      ]
    },
    {
      "cell_type": "code",
      "source": [
        "dataframe.describe().show()"
      ],
      "metadata": {
        "id": "qero7wDPRFv0",
        "colab": {
          "base_uri": "https://localhost:8080/"
        },
        "outputId": "76a34c65-734c-4260-c3e6-9af15caeca84"
      },
      "execution_count": null,
      "outputs": [
        {
          "output_type": "stream",
          "name": "stdout",
          "text": [
            "+-------+-----------------+--------------------+--------------------+--------------------+-----------+--------------------+--------------------+--------------------+-----------+---------+-------+------------------+--------------------+--------------------+--------------------+--------------------+--------------------+--------------------+--------------------+--------------------+------------------+------------------+--------------------+------+----+-------+-----+----+-------+----------+------+------+-------+----+-------+-----+----------+-----+----+-----+----+-------+----+------+-------+--------+----+-----+----+------+-----+------+------+------+---------+-------+----+-------------+-------------------+\n",
            "|summary|             FMID|          MarketName|             Website|            Facebook|    Twitter|             Youtube|          OtherMedia|              street|       city|   County|  State|               zip|         Season1Date|         Season1Time|         Season2Date|         Season2Time|         Season3Date|         Season3Time|         Season4Date|         Season4Time|                 x|                 y|            Location|Credit| WIC|WICcash|SFMNP|SNAP|Organic|Bakedgoods|Cheese|Crafts|Flowers|Eggs|Seafood|Herbs|Vegetables|Honey|Jams|Maple|Meat|Nursery|Nuts|Plants|Poultry|Prepared|Soap|Trees|Wine|Coffee|Beans|Fruits|Grains|Juices|Mushrooms|PetFood|Tofu|WildHarvested|         updateTime|\n",
            "+-------+-----------------+--------------------+--------------------+--------------------+-----------+--------------------+--------------------+--------------------+-----------+---------+-------+------------------+--------------------+--------------------+--------------------+--------------------+--------------------+--------------------+--------------------+--------------------+------------------+------------------+--------------------+------+----+-------+-----+----+-------+----------+------+------+-------+----+-------+-----+----------+-----+----+-----+----+-------+----+------+-------+--------+----+-----+----+------+-----+------+------+------+---------+-------+----+-------------+-------------------+\n",
            "|  count|             8804|                8804|                5291|                4192|       1038|                 185|                 882|                8517|       8765|     8768|   8804|              7857|                5697|                5864|                 465|                 456|                  78|                  75|                   5|                   5|              8776|              8776|                2514|  8804|8804|   8804| 8804|8804|   8804|      5981|  5981|  5981|   5981|5981|   5981| 5981|      5981| 5981|5981| 5981|5981|   5981|5981|  5981|   5981|    5981|5981| 5981|5981|  5981| 5981|  5981|  5981|  5981|     5981|   5981|5981|         5981|               8804|\n",
            "|   mean|1010898.372671513|                null|                null|                null|       null|                null|                null|                null|       null|     null|   null|47328.094180704444|                null|                null|                null|                null|                null|                null|                null|                null|-90.87538078895831|39.124052763092564|                null|  null|null|   null| null|null|   null|      null|  null|  null|   null|null|   null| null|      null| null|null| null|null|   null|null|  null|   null|    null|null| null|null|  null| null|  null|  null|  null|     null|   null|null|         null| 2009.9380993897123|\n",
            "| stddev|54123.84427884063|                null|                null|                null|       null|                null|                null|                null|       null|     null|   null| 30428.13416380984|                null|                null|                null|                null|                null|                null|                null|                null|17.322986244678347| 5.288970822817288|                null|  null|null|   null| null|null|   null|      null|  null|  null|   null|null|   null| null|      null| null|null| null|null|   null|null|  null|   null|    null|null| null|null|  null| null|  null|  null|  null|     null|   null|null|         null|  1.469149252491546|\n",
            "|    min|          1000001| Caledonia Farmer...|http:// jasper.ag...| https://www.face...| no twitter| Delcambre Seafoo...| http://instagram...|  11900 Country C...| Annandale |Abbeville|Alabama|                 0|       to 07/01/2016|Fri: 10:00 AM-12:...|01/01/2014 to 04/...|Fri: 11:00 AM-3:3...|01/01/2012 to 05/...|Fri: 3:00 PM-6:00...|01/01/2020 to 03/...|Sat: 10:00 AM-1:0...|        -166.53999|         1.7081209|Closed-off public...|     N|   N|      N|    N|   N|      -|         N|     N|     N|      N|   N|      N|    N|         N|    N|   N|    N|   N|      N|   N|     N|      N|       N|   N|    N|   N|     N|    N|     N|     N|     N|        N|      N|   N|            N|    1/10/2020 19:44|\n",
            "|    max|          2000036|wilbraham winter ...|https://yanceycou...|                 yes|        yes|youtube.com/grand...|www.yelp.com/biz/...|www.twincitiesloc...|  woodstock|  midland|Wyoming|               n/a|Start Date 1/1/13...|      sun:TBD - TBD;| October to December|sun:10:00 AM - 2:...|September to October|Wed: 7:00 AM-3:00...|12/10/2016 to 12/...|Sat: 9:00 AM-1:00...|        -3.4606929|         64.862747|Private business ...|     Y|   Y|      Y|    Y|   Y|      Y|         Y|     Y|     Y|      Y|   Y|      Y|    Y|         Y|    Y|   Y|    Y|   Y|      Y|   Y|     Y|      Y|       Y|   Y|    Y|   Y|     Y|    Y|     Y|     Y|     Y|        Y|      Y|   Y|            Y|May 30 2010  7:17PM|\n",
            "+-------+-----------------+--------------------+--------------------+--------------------+-----------+--------------------+--------------------+--------------------+-----------+---------+-------+------------------+--------------------+--------------------+--------------------+--------------------+--------------------+--------------------+--------------------+--------------------+------------------+------------------+--------------------+------+----+-------+-----+----+-------+----------+------+------+-------+----+-------+-----+----------+-----+----+-----+----+-------+----+------+-------+--------+----+-----+----+------+-----+------+------+------+---------+-------+----+-------------+-------------------+\n",
            "\n"
          ]
        }
      ]
    },
    {
      "cell_type": "code",
      "source": [
        "#drop the columns with more than 40% null data\n",
        "dataframe = dataframe.select([col_name for col_name in dataframe.columns if dataframe.select(col(col_name)).na.drop().count() / dataframe.count() >= 0.4])"
      ],
      "metadata": {
        "id": "q7-ktrcloBqU"
      },
      "execution_count": null,
      "outputs": []
    },
    {
      "cell_type": "code",
      "source": [
        "dataframe.show()"
      ],
      "metadata": {
        "id": "YaHOOTPDRdju",
        "outputId": "051b1100-1282-4a8c-f60e-ae9bd15ae98a",
        "colab": {
          "base_uri": "https://localhost:8080/"
        }
      },
      "execution_count": null,
      "outputs": [
        {
          "output_type": "stream",
          "name": "stdout",
          "text": [
            "+-------+--------------------+--------------------+--------------------+--------------------+------------+--------------------+--------------------+-----+--------------------+--------------------+----------+---------+------+---+-------+-----+----+-------+----------+------+------+-------+----+-------+-----+----------+-----+----+-----+----+-------+----+------+-------+--------+----+-----+----+------+-----+------+------+------+---------+-------+----+-------------+----------------+\n",
            "|   FMID|          MarketName|             Website|            Facebook|              street|        city|              County|               State|  zip|         Season1Date|         Season1Time|         x|        y|Credit|WIC|WICcash|SFMNP|SNAP|Organic|Bakedgoods|Cheese|Crafts|Flowers|Eggs|Seafood|Herbs|Vegetables|Honey|Jams|Maple|Meat|Nursery|Nuts|Plants|Poultry|Prepared|Soap|Trees|Wine|Coffee|Beans|Fruits|Grains|Juices|Mushrooms|PetFood|Tofu|WildHarvested|      updateTime|\n",
            "+-------+--------------------+--------------------+--------------------+--------------------+------------+--------------------+--------------------+-----+--------------------+--------------------+----------+---------+------+---+-------+-----+----+-------+----------+------+------+-------+----+-------+-----+----------+-----+----+-----+----+-------+----+------+-------+--------+----+-----+----+------+-----+------+------+------+---------+-------+----+-------------+----------------+\n",
            "|1018261| Caledonia Farmer...|https://sites.goo...|https://www.faceb...|                null|    Danville|           Caledonia|             Vermont| 5828|06/14/2017 to 08/...|Wed: 9:00 AM-1:00...|-72.140335|44.411037|     Y|  Y|      N|    Y|   N|      Y|         Y|     Y|     Y|      Y|   Y|      N|    Y|         Y|    Y|   Y|    Y|   Y|      N|   N|     N|      Y|       Y|   Y|    Y|   N|     Y|    Y|     Y|     N|     N|        Y|      Y|   N|            N| 6/20/2017 22:43|\n",
            "|1018318| Stearns Homestea...|http://www.Stearn...|StearnsHomesteadF...|     6975 Ridge Road|      Parma |            Cuyahoga|                Ohio| null|06/24/2017 to 09/...|Sat: 9:00 AM-1:00...| -81.73394|41.374802|     Y|  N|      N|    Y|   N|      -|         Y|     N|     Y|      Y|   Y|      N|    Y|         Y|    Y|   Y|    Y|   N|      N|   N|     N|      Y|       N|   Y|    N|   N|     N|    N|     Y|     N|     N|        N|      N|   N|            N| 6/21/2017 17:15|\n",
            "|1009364|106 S. Main Stree...|http://thetownofs...|                null|  106 S. Main Street|    Six Mile|             Pickens|      South Carolina|29682|                null|                null|-82.818703|34.804199|     Y|  N|      N|    N|   N|      -|      null|  null|  null|   null|null|   null| null|      null| null|null| null|null|   null|null|  null|   null|    null|null| null|null|  null| null|  null|  null|  null|     null|   null|null|         null|            2013|\n",
            "|1010691|10th Steet Commun...|                null|                null|10th Street and P...|      Lamar |              Barton|            Missouri|64759|04/02/2014 to 11/...|Wed: 3:00 PM-6:00...| -94.27462|37.495628|     Y|  N|      N|    N|   N|      -|         Y|     N|     Y|      N|   Y|      N|    Y|         Y|    Y|   Y|    N|   Y|      N|   N|     Y|      Y|       Y|   Y|    N|   N|     N|    N|     Y|     N|     N|        N|      N|   N|            N| 10/28/2014 9:49|\n",
            "|1002454|112st Madison Avenue|                null|                null|112th Madison Avenue|    New York|            New York|            New York|10029|    July to November|Tue:8:00 am - 5:0...|-73.949303|  40.7939|     N|  N|      Y|    Y|   N|      -|         Y|     N|     Y|      Y|   N|      N|    Y|         Y|    Y|   Y|    N|   N|      N|   Y|     N|      N|       Y|   Y|    N|   N|     N|    N|     N|     N|     N|        N|      N|   N|            N|  3/1/2012 10:38|\n",
            "|1011100|12 South Farmers ...|http://www.12sout...|12_South_Farmers_...|3000 Granny White...|   Nashville|            Davidson|           Tennessee|37204|05/05/2015 to 10/...|Tue: 3:30 PM-6:30...| -86.79071| 36.11837|     Y|  N|      N|    N|   Y|      Y|         Y|     Y|     N|      Y|   Y|      N|    Y|         Y|    Y|   Y|    Y|   Y|      N|   N|     N|      Y|       Y|   Y|    N|   N|     Y|    N|     Y|     N|     Y|        Y|      Y|   N|            N|  5/1/2015 10:40|\n",
            "|1009845|125th Street Fres...|http://www.125thS...|https://www.faceb...|163 West 125th St...|    New York|            New York|            New York|10027|06/10/2014 to 11/...|Tue: 10:00 AM-7:0...| -73.94825|40.808952|     Y|  Y|      N|    Y|   Y|      Y|         Y|     Y|     Y|      Y|   Y|      N|    Y|         Y|    Y|   Y|    Y|   Y|      N|   Y|     N|      Y|       Y|   Y|    N|   Y|     Y|    N|     Y|     N|     Y|        N|      N|   N|            N|  4/7/2014 16:32|\n",
            "|1005586|12th & Brandywine...|                null|https://www.faceb...|12th & Brandywine...|  Wilmington|          New Castle|            Delaware|19801|05/16/2014 to 10/...|Fri: 8:00 AM-11:0...|-75.534462|39.742119|     N|  N|      N|    N|   Y|      N|         N|     N|     N|      N|   N|      N|    Y|         Y|    N|   N|    N|   N|      N|   N|     N|      N|       N|   N|    N|   N|     N|    N|     Y|     N|     N|        N|      N|   N|            N|  4/3/2014 15:43|\n",
            "|1008071|14&U Farmers' Market|                null|https://www.faceb...|   1400 U Street NW |  Washington|District of Columbia|District of Columbia|20009|05/03/2014 to 11/...|Sat: 9:00 AM-1:00...|-77.032051|   38.917|     Y|  Y|      Y|    Y|   Y|      Y|         Y|     Y|     N|      Y|   Y|      N|    Y|         Y|    Y|   Y|    N|   Y|      N|   Y|     Y|      Y|       N|   N|    N|   N|     N|    Y|     Y|     Y|     Y|        N|      N|   N|            N|  4/5/2014 13:49|\n",
            "|1012710|14th & Kennedy St...|                null|https://www.faceb...|5500 Colorado Ave...| Washington |District of Columbia|District of Columbia|20011|04/09/2016 to 11/...|Sat: 9:00 AM-1:00...|-77.033447|38.955978|     Y|  Y|      Y|    Y|   Y|      N|         Y|     N|     Y|      Y|   Y|      N|    Y|         Y|    Y|   Y|    N|   Y|      N|   N|     N|      Y|       Y|   N|    N|   N|     Y|    N|     Y|     N|     N|        N|      Y|   N|            N| 7/20/2016 11:16|\n",
            "|1019157|16th Ave Farmers ...|http://16thavefar...|                null|NE 16th Ave & Bro...|    Portland|           Multnomah|              Oregon|97212|06/03/2018 to 10/...|Sun: 9:00 AM-1:30...|-122.64944|45.534496|     Y|  Y|      Y|    Y|   N|      -|         Y|     N|     Y|      Y|   N|      N|    N|         Y|    Y|   Y|    N|   N|      N|   N|     Y|      N|       Y|   Y|    Y|   N|     Y|    N|     Y|     N|     N|        N|      N|   N|            Y|  7/5/2018 17:00|\n",
            "|1018792|      170 Farm Stand|                null|https://www.faceb...|NE Corner of 170t...|       Bronx|               Bronx|            New York|10452|07/05/2017 to 11/...|Wed: 2:30 PM-6:30...|-73.916786|40.839886|     Y|  N|      Y|    Y|   Y|      -|         N|     N|     N|      N|   Y|      N|    N|         Y|    Y|   N|    N|   N|      N|   N|     N|      N|       N|   N|    N|   N|     N|    Y|     Y|     Y|     N|        Y|      N|   N|            N|  8/7/2017 16:11|\n",
            "|1016782|175th Street Gree...|https://www.grown...|https://www.faceb...|175th Street betw...|   New York |            New York|            New York|10033|06/29/2017 to 11/...|Tue: 8:00 AM-6:00...|-73.938049|40.846355|     Y|  Y|      Y|    Y|   Y|      N|         Y|     Y|     N|      Y|   Y|      Y|    Y|         Y|    Y|   Y|    N|   N|      N|   N|     N|      N|       N|   N|    N|   N|     N|    N|     Y|     Y|     Y|        N|      N|   N|            N|12/16/2016 12:06|\n",
            "|1003877|     17th Ave Market|http://www.iatp.o...|                null|      1622 6th St NE| Minneapolis|            Hennepin|           Minnesota|55413|   June to September|Wed:3:00 pm - 7:0...|-93.259102|45.004398|     N|  Y|      Y|    Y|   N|      -|         N|     N|     N|      N|   N|      N|    Y|         N|    N|   N|    N|   N|      N|   N|     N|      N|       N|   N|    N|   N|     N|    N|     N|     N|     N|        N|      N|   N|            N| 4/28/2011 14:33|\n",
            "|1016784|17th Street Farme...|http://enrichmond...|https://www.faceb...|  100 North 17th St.|   Richmond |       Richmond City|            Virginia|23219|      06/08/2017 to |Thu: 3:00 PM-6:30...|-77.428368|37.533852|     Y|  N|      N|    N|   Y|      -|         Y|     Y|     N|      N|   Y|      Y|    Y|         Y|    Y|   Y|    N|   Y|      N|   N|     N|      Y|       N|   Y|    N|   N|     Y|    N|     Y|     N|     N|        Y|      N|   N|            N|12/29/2016 12:13|\n",
            "|1010968|18th and Christia...|http://thefoodtru...|                null|18th Street and C...|Philadelphia|        Philadelphia|        Pennsylvania|19146|06/01/2015 to 11/...|Thu: 3:00 PM-7:00...|-75.173431|39.940945|     Y|  Y|      N|    Y|   Y|      N|         N|     N|     N|      N|   N|      N|    N|         Y|    N|   N|    N|   N|      N|   N|     N|      N|       N|   N|    N|   N|     N|    N|     Y|     N|     N|        N|      N|   N|            N| 3/24/2015 15:33|\n",
            "|1009994|18th Street Farme...|                null|https://www.faceb...|   18th and Broadway| Scottsbluff|        Scotts Bluff|            Nebraska|69361|06/07/2014 to 09/...|Sat: 8:00 AM-11:0...|-103.66254|41.864269|     Y|  N|      N|    N|   N|      Y|         Y|     Y|     Y|      Y|   Y|      N|    Y|         Y|    Y|   N|    N|   Y|      N|   N|     Y|      Y|       Y|   N|    N|   N|     Y|    Y|     Y|     N|     N|        N|      N|   N|            N| 6/29/2016 16:32|\n",
            "|1018365|18th Street Farme...|                null|18th Street Farme...|     825 18th Street| Charleston |               Coles|            Illinois|61920|05/20/2017 to 09/...|Sat: 8:00 AM-12:0...|-88.162239|39.490715|     Y|  Y|      N|    Y|   Y|      -|         Y|     N|     Y|      Y|   N|      N|    Y|         Y|    Y|   Y|    N|   N|      N|   N|     Y|      N|       N|   Y|    N|   N|     N|    N|     Y|     N|     N|        N|      N|   N|            N|  6/23/2017 8:02|\n",
            "|1012790|19/27 Community F...|                null|https://www.faceb...|          NE 7th Ave|   Chiefland|                Levy|             Florida|32626|09/03/2016 to 06/...|Sat: 8:30 AM-1:00...|-82.857872|29.484854|     Y|  N|      N|    N|   N|      -|         Y|     Y|     Y|      N|   Y|      N|    Y|         Y|    Y|   Y|    N|   Y|      N|   N|     Y|      Y|       Y|   Y|    Y|   N|     N|    Y|     Y|     Y|     N|        Y|      Y|   N|            N| 8/19/2016 16:07|\n",
            "|1012158|21 Acres Farm Market|  http://21acres.org|https://www.faceb...|13701 NE 171st St...| Woodinville|                King|          Washington|98072|01/01/2016 to 12/...|Wed: 11:00 AM-6:0...|-122.15699| 47.75024|     Y|  N|      N|    N|   Y|      Y|         Y|     Y|     N|      N|   Y|      Y|    Y|         N|    Y|   Y|    N|   Y|      N|   Y|     N|      Y|       Y|   N|    N|   N|     Y|    Y|     Y|     Y|     Y|        Y|      N|   N|            N| 6/30/2016 19:50|\n",
            "+-------+--------------------+--------------------+--------------------+--------------------+------------+--------------------+--------------------+-----+--------------------+--------------------+----------+---------+------+---+-------+-----+----+-------+----------+------+------+-------+----+-------+-----+----------+-----+----+-----+----+-------+----+------+-------+--------+----+-----+----+------+-----+------+------+------+---------+-------+----+-------------+----------------+\n",
            "only showing top 20 rows\n",
            "\n"
          ]
        }
      ]
    },
    {
      "cell_type": "code",
      "source": [
        "dataframe.select([count(when(isnan(dataframe_col) | col(dataframe_col).isNull(), dataframe_col)).alias(dataframe_col) for dataframe_col in dataframe.columns]).show()"
      ],
      "metadata": {
        "id": "55IOgD3sohh0",
        "outputId": "3b410f6b-b7d9-4218-e627-a3b8ce26b787",
        "colab": {
          "base_uri": "https://localhost:8080/"
        }
      },
      "execution_count": null,
      "outputs": [
        {
          "output_type": "stream",
          "name": "stdout",
          "text": [
            "+----+----------+-------+--------+------+----+------+-----+---+-----------+-----------+---+---+------+---+-------+-----+----+-------+----------+------+------+-------+----+-------+-----+----------+-----+----+-----+----+-------+----+------+-------+--------+----+-----+----+------+-----+------+------+------+---------+-------+----+-------------+----------+\n",
            "|FMID|MarketName|Website|Facebook|street|city|County|State|zip|Season1Date|Season1Time|  x|  y|Credit|WIC|WICcash|SFMNP|SNAP|Organic|Bakedgoods|Cheese|Crafts|Flowers|Eggs|Seafood|Herbs|Vegetables|Honey|Jams|Maple|Meat|Nursery|Nuts|Plants|Poultry|Prepared|Soap|Trees|Wine|Coffee|Beans|Fruits|Grains|Juices|Mushrooms|PetFood|Tofu|WildHarvested|updateTime|\n",
            "+----+----------+-------+--------+------+----+------+-----+---+-----------+-----------+---+---+------+---+-------+-----+----+-------+----------+------+------+-------+----+-------+-----+----------+-----+----+-----+----+-------+----+------+-------+--------+----+-----+----+------+-----+------+------+------+---------+-------+----+-------------+----------+\n",
            "|   0|         0|   3513|    4612|   287|  39|    36|    0|947|       3107|       2940| 28| 28|     0|  0|      0|    0|   0|      0|      2823|  2823|  2823|   2823|2823|   2823| 2823|      2823| 2823|2823| 2823|2823|   2823|2823|  2823|   2823|    2823|2823| 2823|2823|  2823| 2823|  2823|  2823|  2823|     2823|   2823|2823|         2823|         0|\n",
            "+----+----------+-------+--------+------+----+------+-----+---+-----------+-----------+---+---+------+---+-------+-----+----+-------+----------+------+------+-------+----+-------+-----+----------+-----+----+-----+----+-------+----+------+-------+--------+----+-----+----+------+-----+------+------+------+---------+-------+----+-------------+----------+\n",
            "\n"
          ]
        }
      ]
    },
    {
      "cell_type": "code",
      "source": [
        "d1 = dataframe.drop_duplicates().count()\n",
        "d2 = dataframe.count()\n",
        "print('Total number of duplicate rows', d2  - d1)\n",
        "dataframe = dataframe.drop_duplicates()"
      ],
      "metadata": {
        "id": "tjX7mfcPR0Hp",
        "colab": {
          "base_uri": "https://localhost:8080/"
        },
        "outputId": "5f485167-3644-4eb7-c6fd-cffa90230450"
      },
      "execution_count": null,
      "outputs": [
        {
          "output_type": "stream",
          "name": "stdout",
          "text": [
            "Total number of duplicate rows 0\n"
          ]
        }
      ]
    },
    {
      "cell_type": "code",
      "source": [
        "dataframe.show(2)"
      ],
      "metadata": {
        "id": "R9BEm4HS20cm",
        "outputId": "9cf54618-d05e-41e6-a3f7-64c15407485a",
        "colab": {
          "base_uri": "https://localhost:8080/"
        }
      },
      "execution_count": null,
      "outputs": [
        {
          "output_type": "stream",
          "name": "stdout",
          "text": [
            "+-------+--------------------+--------------------+--------+--------------------+---------+------+-------------+-----+--------------------+--------------------+----------+---------+------+---+-------+-----+----+-------+----------+------+------+-------+----+-------+-----+----------+-----+----+-----+----+-------+----+------+-------+--------+----+-----+----+------+-----+------+------+------+---------+-------+----+-------------+---------------+\n",
            "|   FMID|          MarketName|             Website|Facebook|              street|     city|County|        State|  zip|         Season1Date|         Season1Time|         x|        y|Credit|WIC|WICcash|SFMNP|SNAP|Organic|Bakedgoods|Cheese|Crafts|Flowers|Eggs|Seafood|Herbs|Vegetables|Honey|Jams|Maple|Meat|Nursery|Nuts|Plants|Poultry|Prepared|Soap|Trees|Wine|Coffee|Beans|Fruits|Grains|Juices|Mushrooms|PetFood|Tofu|WildHarvested|     updateTime|\n",
            "+-------+--------------------+--------------------+--------+--------------------+---------+------+-------------+-----+--------------------+--------------------+----------+---------+------+---+-------+-----+----+-------+----------+------+------+-------+----+-------+-----+----------+-----+----+-----+----+-------+----+------+-------+--------+----+-----+----+------+-----+------+------+------+---------+-------+----+-------------+---------------+\n",
            "|1003236|Aldrich Arena Far...|http://www.stpaul...|    null|1850 White Bear Ave.|Maplewood|Ramsey|    Minnesota|55109|                null|                null|  -93.0877|44.960899|     N|  N|      N|    N|   N|      -|      null|  null|  null|   null|null|   null| null|      null| null|null| null|null|   null|null|  null|   null|    null|null| null|null|  null| null|  null|  null|  null|     null|   null|null|         null|           2009|\n",
            "|1019735|Andover Farmers M...|                null|    null|   41 Central Street|  Andover| Essex|Massachusetts| 1810|06/20/2020 to 10/...|Sat: 10:00 AM-2:0...|-71.142754|42.653633|     Y|  Y|      Y|    Y|   Y|      Y|         Y|     Y|     Y|      Y|   Y|      Y|    Y|         Y|    Y|   Y|    Y|   Y|      N|   N|     N|      Y|       Y|   Y|    N|   Y|     Y|    Y|     Y|     N|     Y|        Y|      N|   N|            N|1/17/2020 15:03|\n",
            "+-------+--------------------+--------------------+--------+--------------------+---------+------+-------------+-----+--------------------+--------------------+----------+---------+------+---+-------+-----+----+-------+----------+------+------+-------+----+-------+-----+----------+-----+----+-----+----+-------+----+------+-------+--------+----+-----+----+------+-----+------+------+------+---------+-------+----+-------------+---------------+\n",
            "only showing top 2 rows\n",
            "\n"
          ]
        }
      ]
    },
    {
      "cell_type": "code",
      "source": [
        "# List of column names to be processed\n",
        "columns = [\"Credit\", 'WIC', 'WICcash', 'SFMNP', 'SNAP', 'Organic', 'Bakedgoods', 'Cheese', 'Crafts', 'Flowers', 'Eggs', 'Seafood', 'Herbs', 'Vegetables', 'Honey', 'Jams', 'Maple', 'Meat', 'Nursery',\n",
        "           'Plants', 'Poultry', 'Prepared', 'Soap', 'Trees', 'Wine', 'Coffee', 'Beans', 'Fruits', 'Grains', 'Juices', 'Mushrooms', 'PetFood', 'Tofu', 'WildHarvested', 'NUTS']\n",
        "\n",
        "# Loop through each column to process\n",
        "for cols_name in columns:\n",
        "    # Apply transformation to the current column\n",
        "    dataframe = dataframe.withColumn(cols_name,\n",
        "                                     # Check if values are \"Y\", \"true\", or \"True\", replace with 1\n",
        "                                     when(col(cols_name).isin(\"Y\", \"true\", \"True\"), 1)\n",
        "                                     # Check if values are \"N\", \"False\", \"No\", \"NOT APPLICABLE\", or \"-\", replace with 0\n",
        "                                     .when(col(cols_name).isin(\"N\", \"False\", \"No\", \"NOT APPLICABLE\", \"-\"), 0)\n",
        "                                     # If value doesn't match any condition, set to None\n",
        "                                     .otherwise(None))\n"
      ],
      "metadata": {
        "id": "FNpdjOpH2wIU"
      },
      "execution_count": null,
      "outputs": []
    },
    {
      "cell_type": "code",
      "source": [
        "dataframe.show()"
      ],
      "metadata": {
        "id": "mQ_sIRpz5eNV",
        "outputId": "0e0fd063-bd61-44d8-b2bf-27fc3878a0d5",
        "colab": {
          "base_uri": "https://localhost:8080/"
        }
      },
      "execution_count": null,
      "outputs": [
        {
          "output_type": "stream",
          "name": "stdout",
          "text": [
            "+-------+--------------------+--------------------+--------------------+--------------------+-----------+--------------+--------------+-----+--------------------+--------------------+----------+---------+------+---+-------+-----+----+-------+----------+------+------+-------+----+-------+-----+----------+-----+----+-----+----+-------+----+------+-------+--------+----+-----+----+------+-----+------+------+------+---------+-------+----+-------------+-------------------+\n",
            "|   FMID|          MarketName|             Website|            Facebook|              street|       city|        County|         State|  zip|         Season1Date|         Season1Time|         x|        y|Credit|WIC|WICcash|SFMNP|SNAP|Organic|Bakedgoods|Cheese|Crafts|Flowers|Eggs|Seafood|Herbs|Vegetables|Honey|Jams|Maple|Meat|Nursery|NUTS|Plants|Poultry|Prepared|Soap|Trees|Wine|Coffee|Beans|Fruits|Grains|Juices|Mushrooms|PetFood|Tofu|WildHarvested|         updateTime|\n",
            "+-------+--------------------+--------------------+--------------------+--------------------+-----------+--------------+--------------+-----+--------------------+--------------------+----------+---------+------+---+-------+-----+----+-------+----------+------+------+-------+----+-------+-----+----------+-----+----+-----+----+-------+----+------+-------+--------+----+-----+----+------+-----+------+------+------+---------+-------+----+-------------+-------------------+\n",
            "|1003236|Aldrich Arena Far...|http://www.stpaul...|                null|1850 White Bear Ave.|  Maplewood|        Ramsey|     Minnesota|55109|                null|                null|  -93.0877|44.960899|     0|  0|      0|    0|   0|      0|      null|  null|  null|   null|null|   null| null|      null| null|null| null|null|   null|null|  null|   null|    null|null| null|null|  null| null|  null|  null|  null|     null|   null|null|         null|               2009|\n",
            "|1019735|Andover Farmers M...|                null|                null|   41 Central Street|    Andover|         Essex| Massachusetts| 1810|06/20/2020 to 10/...|Sat: 10:00 AM-2:0...|-71.142754|42.653633|     1|  1|      1|    1|   1|      1|         1|     1|     1|      1|   1|      1|    1|         1|    1|   1|    1|   1|      0|   0|     0|      1|       1|   1|    0|   1|     1|    1|     1|     0|     1|        1|      0|   0|            0|    1/17/2020 15:03|\n",
            "|1006161|Beets, Beats, and...|http://www.downto...|https://www.faceb...|Crossman Park, 39...| Ortonville|       Oakland|      Michigan|48462|06/12/2015 to 09/...|Fri: 6:00 PM-9:00...| -83.44381|42.852734|     1|  0|      0|    0|   0|      0|         1|     0|     1|      1|   1|      0|    1|         1|    1|   1|    0|   0|      0|   0|     1|      0|       1|   1|    0|   0|     0|    0|     1|     0|     0|        0|      0|   0|            0|    3/19/2015 11:19|\n",
            "|1019440|Bluffton Farmers'...|                null|https://www.faceb...|       360 N Main St|   Bluffton|         Wells|       Indiana|46714|05/04/2019 to 09/...|Wed: 3:00 PM-6:00...|-85.172112|40.743481|     1|  0|      0|    0|   0|      0|         1|     0|     1|      1|   1|      0|    0|         1|    1|   1|    0|   0|      0|   0|     1|      0|       0|   1|    0|   0|     0|    0|     1|     0|     0|        0|      0|   0|            0|     3/25/2019 8:50|\n",
            "|1012744|Bronxville Farmer...|http://www.bronxv...|https://www.faceb...|Stone Place and P...| Bronxville|   Westchester|      New York|10708|05/04/2016 to 11/...|Sat: 8:30 AM-1:00...|-73.837784|40.939995|     1|  1|      1|    1|   1|      1|         1|     0|     0|      1|   1|      1|    1|         1|    1|   1|    1|   1|      0|   1|     1|      1|       1|   1|    0|   1|     1|    0|     1|     0|     1|        1|      0|   0|            1|    7/28/2016 15:30|\n",
            "|1008616|City of Barnwell ...|http://www.cityof...|https://www.faceb...|9987 Dunbarton Blvd.|  Barnwell |      Barnwell|South Carolina|29812|05/27/2014 to 10/...|Tue: 8:00 AM-2:00...|-81.376114| 33.24369|     0|  0|      0|    0|   0|      0|         1|     1|     1|      1|   1|      1|    1|         1|    1|   1|    1|   0|      0|   1|     1|      0|       1|   1|    1|   0|     1|    1|     1|     1|     0|        0|      0|   0|            0|    4/16/2014 14:04|\n",
            "|1008434|City of Manassas ...|http://media.visi...|https://www.faceb...|West St. and Prin...|  Manassas |      Manassas|      Virginia|20110|04/13/2013 to 11/...|Sat: 7:30 AM-1:00...|-77.473076|38.749489|     1|  0|      0|    0|   1|      0|         1|     1|     1|      1|   1|      0|    1|         1|    1|   1|    0|   1|      0|   0|     1|      1|       1|   1|    0|   1|     0|    0|     1|     0|     0|        0|      0|   0|            0|    6/25/2013 12:37|\n",
            "|1012194|Copake Hillsdale ...|http://www.copake...|facebook.com/copa...|       9140 Route 22|  Hillsdale|      Columbia|      New York|12529|05/01/2016 to 10/...|Sun: 9:00 AM-1:00...|-73.517479|42.170063|     1|  1|      1|    1|   1|      1|         1|     1|     1|      1|   1|      0|    1|         1|    1|   1|    1|   0|      0|   1|     1|      1|       1|   1|    0|   1|     1|    0|     1|     0|     1|        1|      0|   0|            1|     7/1/2016 15:49|\n",
            "|1004485|Dubuque Winter Fa...|http://wintermark...|https://www.faceb...|    1101 Central Ave|    Dubuque|       Dubuque|          Iowa|52001|11/02/2013 to 04/...|Sat: 9:00 AM-12:0...|-90.666626|42.503983|     1|  0|      1|    0|   1|      1|         1|     1|     0|      0|   1|      0|    1|         1|    1|   1|    0|   1|      0|   1|     1|      1|       1|   1|    0|   0|     0|    0|     0|     0|     0|        0|      0|   0|            0|    3/14/2014 11:25|\n",
            "|1019523|Farmers and Craft...|https://www.farme...|https://www.faceb...|      221 N. Main St| Las Cruces|      Dona Ana|    New Mexico|88001|01/01/2019 to 12/...|Wed: 8:30 AM-1:00...| -106.7897|32.326443|     1|  1|      0|    1|   1|      1|         1|     0|     1|      0|   1|      0|    1|         1|    1|   1|    0|   1|      0|   1|     0|      0|       1|   1|    1|   0|     1|    0|     1|     0|     0|        0|      0|   0|            0|    5/14/2019 13:15|\n",
            "|1009340|Farmers Market - ...|http://www.localh...|                null|  North First Street|      Clyde|      Callahan|         Texas|79510|                null|                null|-99.497498|  32.4067|     1|  0|      0|    0|   0|      0|      null|  null|  null|   null|null|   null| null|      null| null|null| null|null|   null|null|  null|   null|    null|null| null|null|  null| null|  null|  null|  null|     null|   null|null|         null|               2013|\n",
            "|1018193|Fifth Street Farm...|                null|FifthStreetFarmer...|   West Fifth Street|   Sycamore|       Wyandot|          Ohio|44882|06/09/2018 to 10/...|Sat: 10:00 AM-1:0...|-83.170006|40.950939|     1|  0|      0|    0|   0|      0|         1|     0|     1|      0|   1|      0|    1|         1|    1|   1|    0|   0|      0|   0|     1|      0|       0|   1|    1|   0|     0|    0|     1|     0|     0|        0|      0|   0|            0|     7/27/2018 8:49|\n",
            "|1006936|    Hallowell Market|                null|                null| Water St. (Rt. 201)|  Hallowell|      Kennebec|         Maine| 4347|                null|                null|-69.789902|  44.2868|     0|  0|      0|    0|   0|      0|      null|  null|  null|   null|null|   null| null|      null| null|null| null|null|   null|null|  null|   null|    null|null| null|null|  null| null|  null|  null|  null|     null|   null|null|         null|               2009|\n",
            "|1016891|Harlan County Far...|                null|Harlan County Far...|      201 S. Main St|     Harlan|        Harlan|      Kentucky|40831|06/10/2017 to 10/...|Sat: 9:00 AM-2:00...|-83.322495|36.845055|     1|  0|      0|    0|   0|      0|         1|     0|     1|      0|   1|      0|    1|         1|    1|   1|    1|   0|      0|   0|     0|      0|       1|   1|    0|   0|     0|    0|     1|     0|     0|        1|      0|   0|            1|     3/31/2017 9:35|\n",
            "|1006219|Hattie Carthan co...|http://www.hattie...|                null| 49 Van Buren Street|   Brooklyn|         Kings|      New York|11221|07/28/2013 to 11/...|                null|-73.943588|40.690239|     0|  0|      0|    0|   0|      1|         0|     0|     0|      1|   1|      0|    1|         1|    1|   1|    1|   0|      0|   0|     1|      0|       0|   1|    0|   0|     0|    0|     1|     0|     0|        0|      0|   0|            0|    6/11/2013 15:20|\n",
            "|1010011|Hendricks Farmers...|                null|https://www.faceb...|   North Main Street| Hendricks |       Lincoln|     Minnesota|56136|07/13/2018 to 10/...|Fri: 3:00 PM-5:30...|-96.425423|44.507061|     1|  0|      0|    0|   0|      0|         1|     0|     0|      1|   0|      0|    1|         1|    0|   1|    0|   0|      0|   0|     1|      0|       0|   0|    0|   0|     0|    0|     1|     0|     0|        0|      0|   0|            0|    7/26/2018 19:43|\n",
            "|1019502|Historic Downtown...|https://jcdowntow...|https://www.faceb...|Between Grove Str...|Jersey City|        Hudson|    New Jersey| 7302|04/29/2019 to 12/...|Mon: 4:00 PM-8:00...|-74.042603|40.719658|     1|  1|      0|    0|   0|      1|         1|     1|     0|      1|   0|      1|    1|         1|    0|   1|    0|   1|      0|   0|     1|      1|       0|   1|    1|   0|     1|    0|     1|     0|     0|        1|      0|   0|            1|     5/2/2019 11:02|\n",
            "|1004426|Historic Manassas...|http://www.histor...|                null|Church St. & Quar...|   Manassas|Prince William|      Virginia|20110|                null|                null|-77.476501|  38.7528|     0|  0|      0|    0|   0|      0|      null|  null|  null|   null|null|   null| null|      null| null|null| null|null|   null|null|  null|   null|    null|null| null|null|  null| null|  null|  null|  null|     null|   null|null|         null|               2009|\n",
            "|1012621|Ida Area Farmers'...|http://www.idafar...|Ida Area Farmers ...|          2nd Street|  Ida Grove|           Ida|          Iowa|51445|06/02/2016 to 09/...|Thu: 4:00 PM-7:00...|-95.470871|42.345173|     1|  1|      0|    1|   0|      1|         1|     0|     1|      1|   1|      0|    0|         1|    1|   1|    0|   1|      0|   1|     0|      1|       0|   1|    0|   1|     0|    1|     1|     0|     0|        0|      0|   0|            0|    7/14/2016 20:47|\n",
            "|1000523|John Day Farmers'...|                null|                null|      SW Brent Drive|   John Day|         Grant|        Oregon|97845|                null|                null|  -118.954|   44.416|     0|  0|      0|    0|   0|      0|      null|  null|  null|   null|null|   null| null|      null| null|null| null|null|   null|null|  null|   null|    null|null| null|null|  null| null|  null|  null|  null|     null|   null|null|         null|May 12 2010  8:09PM|\n",
            "+-------+--------------------+--------------------+--------------------+--------------------+-----------+--------------+--------------+-----+--------------------+--------------------+----------+---------+------+---+-------+-----+----+-------+----------+------+------+-------+----+-------+-----+----------+-----+----+-----+----+-------+----+------+-------+--------+----+-----+----+------+-----+------+------+------+---------+-------+----+-------------+-------------------+\n",
            "only showing top 20 rows\n",
            "\n"
          ]
        }
      ]
    },
    {
      "cell_type": "code",
      "source": [
        "# Loop through each column in the DataFrame\n",
        "for col_name in dataframe.columns:\n",
        "    # Get the data type of the current column\n",
        "    col_dtype = dataframe.schema[col_name].dataType\n",
        "\n",
        "    # Print the current column name\n",
        "    print(f'Column: {col_name}')\n",
        "\n",
        "    # Check the data type and apply appropriate handling\n",
        "    if col_dtype in (int, float):\n",
        "        # For numeric columns (int or float), fill null values with mean\n",
        "        mean_value = 0  # You might want to calculate the actual mean value here\n",
        "        dataframe = dataframe.withColumn(col_name, when(col(col_name).isNull(), mean_value).otherwise(col(col_name)))\n",
        "    elif str(col_dtype) == 'DoubleType()':\n",
        "        # For DoubleType columns, fill null values with most common value (mode)\n",
        "        most_common_value = 0.0  # You might want to calculate the actual most common value here\n",
        "        dataframe = dataframe.withColumn(col_name, when(col(col_name).isNull(), most_common_value).otherwise(col(col_name)))\n",
        "    elif str(col_dtype) == 'StringType()':\n",
        "        # For StringType columns, fill null values with 'NOT APPLICABLE'\n",
        "        most_common_value = 'NOT APPLICABLE'\n",
        "        dataframe = dataframe.withColumn(col_name, when(col(col_name).isNull(), most_common_value).otherwise(col(col_name)))\n",
        "    elif str(col_dtype) == 'BoolType()':\n",
        "        # For BoolType columns, fill null values with False\n",
        "        most_common_value = False\n",
        "        dataframe = dataframe.withColumn(col_name, when(col(col_name).isNull(), most_common_value).otherwise(col(col_name)))\n"
      ],
      "metadata": {
        "id": "-fZZW1G9SD8m",
        "outputId": "766f95f5-fcdf-4070-9b6f-c90b446ab394",
        "colab": {
          "base_uri": "https://localhost:8080/"
        }
      },
      "execution_count": null,
      "outputs": [
        {
          "output_type": "stream",
          "name": "stdout",
          "text": [
            "Column: FMID\n",
            "Column: MarketName\n",
            "Column: Website\n",
            "Column: Facebook\n",
            "Column: street\n",
            "Column: city\n",
            "Column: County\n",
            "Column: State\n",
            "Column: zip\n",
            "Column: Season1Date\n",
            "Column: Season1Time\n",
            "Column: x\n",
            "Column: y\n",
            "Column: Credit\n",
            "Column: WIC\n",
            "Column: WICcash\n",
            "Column: SFMNP\n",
            "Column: SNAP\n",
            "Column: Organic\n",
            "Column: Bakedgoods\n",
            "Column: Cheese\n",
            "Column: Crafts\n",
            "Column: Flowers\n",
            "Column: Eggs\n",
            "Column: Seafood\n",
            "Column: Herbs\n",
            "Column: Vegetables\n",
            "Column: Honey\n",
            "Column: Jams\n",
            "Column: Maple\n",
            "Column: Meat\n",
            "Column: Nursery\n",
            "Column: NUTS\n",
            "Column: Plants\n",
            "Column: Poultry\n",
            "Column: Prepared\n",
            "Column: Soap\n",
            "Column: Trees\n",
            "Column: Wine\n",
            "Column: Coffee\n",
            "Column: Beans\n",
            "Column: Fruits\n",
            "Column: Grains\n",
            "Column: Juices\n",
            "Column: Mushrooms\n",
            "Column: PetFood\n",
            "Column: Tofu\n",
            "Column: WildHarvested\n",
            "Column: updateTime\n"
          ]
        }
      ]
    },
    {
      "cell_type": "code",
      "source": [
        "dataframe = dataframe.dropna()"
      ],
      "metadata": {
        "id": "ZqU3465KSxrg"
      },
      "execution_count": null,
      "outputs": []
    },
    {
      "cell_type": "code",
      "source": [
        "dataframe = dataframe.drop('FMID', 'MarketName','Website','Facebook', 'street', 'city', 'Twitter','Youtube','OtherMedia', 'Season1Date', 'Season1Time', 'Nuts', 'updateTime')"
      ],
      "metadata": {
        "id": "5Cc-F34mwZQX"
      },
      "execution_count": null,
      "outputs": []
    },
    {
      "cell_type": "code",
      "source": [
        "dataframe.show()"
      ],
      "metadata": {
        "id": "cRdtnJxiS3Op",
        "outputId": "a85d004a-c103-42d7-cd4b-c2cebfe0988a",
        "colab": {
          "base_uri": "https://localhost:8080/"
        }
      },
      "execution_count": null,
      "outputs": [
        {
          "output_type": "stream",
          "name": "stdout",
          "text": [
            "+--------------+--------------+-----+----------+---------+------+---+-------+-----+----+-------+----------+------+------+-------+----+-------+-----+----------+-----+----+-----+----+-------+------+-------+--------+----+-----+----+------+-----+------+------+------+---------+-------+----+-------------+\n",
            "|        County|         State|  zip|         x|        y|Credit|WIC|WICcash|SFMNP|SNAP|Organic|Bakedgoods|Cheese|Crafts|Flowers|Eggs|Seafood|Herbs|Vegetables|Honey|Jams|Maple|Meat|Nursery|Plants|Poultry|Prepared|Soap|Trees|Wine|Coffee|Beans|Fruits|Grains|Juices|Mushrooms|PetFood|Tofu|WildHarvested|\n",
            "+--------------+--------------+-----+----------+---------+------+---+-------+-----+----+-------+----------+------+------+-------+----+-------+-----+----------+-----+----+-----+----+-------+------+-------+--------+----+-----+----+------+-----+------+------+------+---------+-------+----+-------------+\n",
            "|        Ramsey|     Minnesota|55109|  -93.0877|44.960899|     0|  0|      0|    0|   0|      0|         0|     0|     0|      0|   0|      0|    0|         0|    0|   0|    0|   0|      0|     0|      0|       0|   0|    0|   0|     0|    0|     0|     0|     0|        0|      0|   0|            0|\n",
            "|         Essex| Massachusetts| 1810|-71.142754|42.653633|     1|  1|      1|    1|   1|      1|         1|     1|     1|      1|   1|      1|    1|         1|    1|   1|    1|   1|      0|     0|      1|       1|   1|    0|   1|     1|    1|     1|     0|     1|        1|      0|   0|            0|\n",
            "|       Oakland|      Michigan|48462| -83.44381|42.852734|     1|  0|      0|    0|   0|      0|         1|     0|     1|      1|   1|      0|    1|         1|    1|   1|    0|   0|      0|     1|      0|       1|   1|    0|   0|     0|    0|     1|     0|     0|        0|      0|   0|            0|\n",
            "|         Wells|       Indiana|46714|-85.172112|40.743481|     1|  0|      0|    0|   0|      0|         1|     0|     1|      1|   1|      0|    0|         1|    1|   1|    0|   0|      0|     1|      0|       0|   1|    0|   0|     0|    0|     1|     0|     0|        0|      0|   0|            0|\n",
            "|   Westchester|      New York|10708|-73.837784|40.939995|     1|  1|      1|    1|   1|      1|         1|     0|     0|      1|   1|      1|    1|         1|    1|   1|    1|   1|      0|     1|      1|       1|   1|    0|   1|     1|    0|     1|     0|     1|        1|      0|   0|            1|\n",
            "|      Barnwell|South Carolina|29812|-81.376114| 33.24369|     0|  0|      0|    0|   0|      0|         1|     1|     1|      1|   1|      1|    1|         1|    1|   1|    1|   0|      0|     1|      0|       1|   1|    1|   0|     1|    1|     1|     1|     0|        0|      0|   0|            0|\n",
            "|      Manassas|      Virginia|20110|-77.473076|38.749489|     1|  0|      0|    0|   1|      0|         1|     1|     1|      1|   1|      0|    1|         1|    1|   1|    0|   1|      0|     1|      1|       1|   1|    0|   1|     0|    0|     1|     0|     0|        0|      0|   0|            0|\n",
            "|      Columbia|      New York|12529|-73.517479|42.170063|     1|  1|      1|    1|   1|      1|         1|     1|     1|      1|   1|      0|    1|         1|    1|   1|    1|   0|      0|     1|      1|       1|   1|    0|   1|     1|    0|     1|     0|     1|        1|      0|   0|            1|\n",
            "|       Dubuque|          Iowa|52001|-90.666626|42.503983|     1|  0|      1|    0|   1|      1|         1|     1|     0|      0|   1|      0|    1|         1|    1|   1|    0|   1|      0|     1|      1|       1|   1|    0|   0|     0|    0|     0|     0|     0|        0|      0|   0|            0|\n",
            "|      Dona Ana|    New Mexico|88001| -106.7897|32.326443|     1|  1|      0|    1|   1|      1|         1|     0|     1|      0|   1|      0|    1|         1|    1|   1|    0|   1|      0|     0|      0|       1|   1|    1|   0|     1|    0|     1|     0|     0|        0|      0|   0|            0|\n",
            "|      Callahan|         Texas|79510|-99.497498|  32.4067|     1|  0|      0|    0|   0|      0|         0|     0|     0|      0|   0|      0|    0|         0|    0|   0|    0|   0|      0|     0|      0|       0|   0|    0|   0|     0|    0|     0|     0|     0|        0|      0|   0|            0|\n",
            "|       Wyandot|          Ohio|44882|-83.170006|40.950939|     1|  0|      0|    0|   0|      0|         1|     0|     1|      0|   1|      0|    1|         1|    1|   1|    0|   0|      0|     1|      0|       0|   1|    1|   0|     0|    0|     1|     0|     0|        0|      0|   0|            0|\n",
            "|      Kennebec|         Maine| 4347|-69.789902|  44.2868|     0|  0|      0|    0|   0|      0|         0|     0|     0|      0|   0|      0|    0|         0|    0|   0|    0|   0|      0|     0|      0|       0|   0|    0|   0|     0|    0|     0|     0|     0|        0|      0|   0|            0|\n",
            "|        Harlan|      Kentucky|40831|-83.322495|36.845055|     1|  0|      0|    0|   0|      0|         1|     0|     1|      0|   1|      0|    1|         1|    1|   1|    1|   0|      0|     0|      0|       1|   1|    0|   0|     0|    0|     1|     0|     0|        1|      0|   0|            1|\n",
            "|         Kings|      New York|11221|-73.943588|40.690239|     0|  0|      0|    0|   0|      1|         0|     0|     0|      1|   1|      0|    1|         1|    1|   1|    1|   0|      0|     1|      0|       0|   1|    0|   0|     0|    0|     1|     0|     0|        0|      0|   0|            0|\n",
            "|       Lincoln|     Minnesota|56136|-96.425423|44.507061|     1|  0|      0|    0|   0|      0|         1|     0|     0|      1|   0|      0|    1|         1|    0|   1|    0|   0|      0|     1|      0|       0|   0|    0|   0|     0|    0|     1|     0|     0|        0|      0|   0|            0|\n",
            "|        Hudson|    New Jersey| 7302|-74.042603|40.719658|     1|  1|      0|    0|   0|      1|         1|     1|     0|      1|   0|      1|    1|         1|    0|   1|    0|   1|      0|     1|      1|       0|   1|    1|   0|     1|    0|     1|     0|     0|        1|      0|   0|            1|\n",
            "|Prince William|      Virginia|20110|-77.476501|  38.7528|     0|  0|      0|    0|   0|      0|         0|     0|     0|      0|   0|      0|    0|         0|    0|   0|    0|   0|      0|     0|      0|       0|   0|    0|   0|     0|    0|     0|     0|     0|        0|      0|   0|            0|\n",
            "|           Ida|          Iowa|51445|-95.470871|42.345173|     1|  1|      0|    1|   0|      1|         1|     0|     1|      1|   1|      0|    0|         1|    1|   1|    0|   1|      0|     0|      1|       0|   1|    0|   1|     0|    1|     1|     0|     0|        0|      0|   0|            0|\n",
            "|         Grant|        Oregon|97845|  -118.954|   44.416|     0|  0|      0|    0|   0|      0|         0|     0|     0|      0|   0|      0|    0|         0|    0|   0|    0|   0|      0|     0|      0|       0|   0|    0|   0|     0|    0|     0|     0|     0|        0|      0|   0|            0|\n",
            "+--------------+--------------+-----+----------+---------+------+---+-------+-----+----+-------+----------+------+------+-------+----+-------+-----+----------+-----+----+-----+----+-------+------+-------+--------+----+-----+----+------+-----+------+------+------+---------+-------+----+-------------+\n",
            "only showing top 20 rows\n",
            "\n"
          ]
        }
      ]
    },
    {
      "cell_type": "code",
      "source": [
        "# Convert the 'zip' column to float data type\n",
        "dataframe = dataframe.withColumn('zip', dataframe['zip'].cast('int'))\n",
        "\n",
        "# Convert the 'x' column to float data type\n",
        "dataframe = dataframe.withColumn('x', dataframe['x'].cast('float'))\n",
        "\n",
        "# Convert the 'y' column to float data type\n",
        "dataframe = dataframe.withColumn('y', dataframe['y'].cast('float'))\n"
      ],
      "metadata": {
        "id": "AUoXT3ugt0qj"
      },
      "execution_count": null,
      "outputs": []
    },
    {
      "cell_type": "code",
      "source": [
        "dataframe.show()"
      ],
      "metadata": {
        "id": "5PT42MLEWFW-",
        "outputId": "7e1f731d-0763-4c55-f4fc-fbab1d7eb32d",
        "colab": {
          "base_uri": "https://localhost:8080/"
        }
      },
      "execution_count": null,
      "outputs": [
        {
          "output_type": "stream",
          "name": "stdout",
          "text": [
            "+--------------+--------------+-----+----------+---------+------+---+-------+-----+----+-------+----------+------+------+-------+----+-------+-----+----------+-----+----+-----+----+-------+------+-------+--------+----+-----+----+------+-----+------+------+------+---------+-------+----+-------------+\n",
            "|        County|         State|  zip|         x|        y|Credit|WIC|WICcash|SFMNP|SNAP|Organic|Bakedgoods|Cheese|Crafts|Flowers|Eggs|Seafood|Herbs|Vegetables|Honey|Jams|Maple|Meat|Nursery|Plants|Poultry|Prepared|Soap|Trees|Wine|Coffee|Beans|Fruits|Grains|Juices|Mushrooms|PetFood|Tofu|WildHarvested|\n",
            "+--------------+--------------+-----+----------+---------+------+---+-------+-----+----+-------+----------+------+------+-------+----+-------+-----+----------+-----+----+-----+----+-------+------+-------+--------+----+-----+----+------+-----+------+------+------+---------+-------+----+-------------+\n",
            "|        Ramsey|     Minnesota|55109|  -93.0877|  44.9609|     0|  0|      0|    0|   0|      0|         0|     0|     0|      0|   0|      0|    0|         0|    0|   0|    0|   0|      0|     0|      0|       0|   0|    0|   0|     0|    0|     0|     0|     0|        0|      0|   0|            0|\n",
            "|         Essex| Massachusetts| 1810| -71.14275|42.653633|     1|  1|      1|    1|   1|      1|         1|     1|     1|      1|   1|      1|    1|         1|    1|   1|    1|   1|      0|     0|      1|       1|   1|    0|   1|     1|    1|     1|     0|     1|        1|      0|   0|            0|\n",
            "|       Oakland|      Michigan|48462| -83.44381|42.852734|     1|  0|      0|    0|   0|      0|         1|     0|     1|      1|   1|      0|    1|         1|    1|   1|    0|   0|      0|     1|      0|       1|   1|    0|   0|     0|    0|     1|     0|     0|        0|      0|   0|            0|\n",
            "|         Wells|       Indiana|46714| -85.17211| 40.74348|     1|  0|      0|    0|   0|      0|         1|     0|     1|      1|   1|      0|    0|         1|    1|   1|    0|   0|      0|     1|      0|       0|   1|    0|   0|     0|    0|     1|     0|     0|        0|      0|   0|            0|\n",
            "|   Westchester|      New York|10708| -73.83778|40.939995|     1|  1|      1|    1|   1|      1|         1|     0|     0|      1|   1|      1|    1|         1|    1|   1|    1|   1|      0|     1|      1|       1|   1|    0|   1|     1|    0|     1|     0|     1|        1|      0|   0|            1|\n",
            "|      Barnwell|South Carolina|29812|-81.376114| 33.24369|     0|  0|      0|    0|   0|      0|         1|     1|     1|      1|   1|      1|    1|         1|    1|   1|    1|   0|      0|     1|      0|       1|   1|    1|   0|     1|    1|     1|     1|     0|        0|      0|   0|            0|\n",
            "|      Manassas|      Virginia|20110|-77.473076| 38.74949|     1|  0|      0|    0|   1|      0|         1|     1|     1|      1|   1|      0|    1|         1|    1|   1|    0|   1|      0|     1|      1|       1|   1|    0|   1|     0|    0|     1|     0|     0|        0|      0|   0|            0|\n",
            "|      Columbia|      New York|12529| -73.51748|42.170063|     1|  1|      1|    1|   1|      1|         1|     1|     1|      1|   1|      0|    1|         1|    1|   1|    1|   0|      0|     1|      1|       1|   1|    0|   1|     1|    0|     1|     0|     1|        1|      0|   0|            1|\n",
            "|       Dubuque|          Iowa|52001|-90.666626|42.503983|     1|  0|      1|    0|   1|      1|         1|     1|     0|      0|   1|      0|    1|         1|    1|   1|    0|   1|      0|     1|      1|       1|   1|    0|   0|     0|    0|     0|     0|     0|        0|      0|   0|            0|\n",
            "|      Dona Ana|    New Mexico|88001| -106.7897|32.326443|     1|  1|      0|    1|   1|      1|         1|     0|     1|      0|   1|      0|    1|         1|    1|   1|    0|   1|      0|     0|      0|       1|   1|    1|   0|     1|    0|     1|     0|     0|        0|      0|   0|            0|\n",
            "|      Callahan|         Texas|79510|  -99.4975|  32.4067|     1|  0|      0|    0|   0|      0|         0|     0|     0|      0|   0|      0|    0|         0|    0|   0|    0|   0|      0|     0|      0|       0|   0|    0|   0|     0|    0|     0|     0|     0|        0|      0|   0|            0|\n",
            "|       Wyandot|          Ohio|44882|-83.170006| 40.95094|     1|  0|      0|    0|   0|      0|         1|     0|     1|      0|   1|      0|    1|         1|    1|   1|    0|   0|      0|     1|      0|       0|   1|    1|   0|     0|    0|     1|     0|     0|        0|      0|   0|            0|\n",
            "|      Kennebec|         Maine| 4347|  -69.7899|  44.2868|     0|  0|      0|    0|   0|      0|         0|     0|     0|      0|   0|      0|    0|         0|    0|   0|    0|   0|      0|     0|      0|       0|   0|    0|   0|     0|    0|     0|     0|     0|        0|      0|   0|            0|\n",
            "|        Harlan|      Kentucky|40831|-83.322495|36.845055|     1|  0|      0|    0|   0|      0|         1|     0|     1|      0|   1|      0|    1|         1|    1|   1|    1|   0|      0|     0|      0|       1|   1|    0|   0|     0|    0|     1|     0|     0|        1|      0|   0|            1|\n",
            "|         Kings|      New York|11221| -73.94359| 40.69024|     0|  0|      0|    0|   0|      1|         0|     0|     0|      1|   1|      0|    1|         1|    1|   1|    1|   0|      0|     1|      0|       0|   1|    0|   0|     0|    0|     1|     0|     0|        0|      0|   0|            0|\n",
            "|       Lincoln|     Minnesota|56136| -96.42542| 44.50706|     1|  0|      0|    0|   0|      0|         1|     0|     0|      1|   0|      0|    1|         1|    0|   1|    0|   0|      0|     1|      0|       0|   0|    0|   0|     0|    0|     1|     0|     0|        0|      0|   0|            0|\n",
            "|        Hudson|    New Jersey| 7302|  -74.0426|40.719658|     1|  1|      0|    0|   0|      1|         1|     1|     0|      1|   0|      1|    1|         1|    0|   1|    0|   1|      0|     1|      1|       0|   1|    1|   0|     1|    0|     1|     0|     0|        1|      0|   0|            1|\n",
            "|Prince William|      Virginia|20110|  -77.4765|  38.7528|     0|  0|      0|    0|   0|      0|         0|     0|     0|      0|   0|      0|    0|         0|    0|   0|    0|   0|      0|     0|      0|       0|   0|    0|   0|     0|    0|     0|     0|     0|        0|      0|   0|            0|\n",
            "|           Ida|          Iowa|51445| -95.47087|42.345173|     1|  1|      0|    1|   0|      1|         1|     0|     1|      1|   1|      0|    0|         1|    1|   1|    0|   1|      0|     0|      1|       0|   1|    0|   1|     0|    1|     1|     0|     0|        0|      0|   0|            0|\n",
            "|         Grant|        Oregon|97845|  -118.954|   44.416|     0|  0|      0|    0|   0|      0|         0|     0|     0|      0|   0|      0|    0|         0|    0|   0|    0|   0|      0|     0|      0|       0|   0|    0|   0|     0|    0|     0|     0|     0|        0|      0|   0|            0|\n",
            "+--------------+--------------+-----+----------+---------+------+---+-------+-----+----+-------+----------+------+------+-------+----+-------+-----+----------+-----+----+-----+----+-------+------+-------+--------+----+-----+----+------+-----+------+------+------+---------+-------+----+-------------+\n",
            "only showing top 20 rows\n",
            "\n"
          ]
        }
      ]
    },
    {
      "cell_type": "code",
      "source": [
        "ml_string_columns = [dataframe_col for dataframe_col, col_dtype in dataframe.dtypes if col_dtype == 'string']\n",
        "\n",
        "string_encoder = [StringIndexer(inputCol=single_col, outputCol=single_col+\"_\").setHandleInvalid(\"keep\") for single_col in ml_string_columns]\n",
        "\n",
        "pipeline = Pipeline(stages=string_encoder)\n",
        "\n",
        "ml_dataframe = pipeline.fit(dataframe).transform(dataframe)"
      ],
      "metadata": {
        "id": "H25ioCj_WldJ"
      },
      "execution_count": null,
      "outputs": []
    },
    {
      "cell_type": "code",
      "source": [
        "ml_col_to_use = [col + \"_\" for col in ml_string_columns]\n",
        "\n",
        "ml_numerical_cols = [dataframe_col for dataframe_col, col_dtype in dataframe.dtypes if col_dtype in [\"int\", \"float\", \"double\"]]\n",
        "\n",
        "ml_col_to_use += ml_numerical_cols"
      ],
      "metadata": {
        "id": "jYrz1Jp1W3Ak"
      },
      "execution_count": null,
      "outputs": []
    },
    {
      "cell_type": "code",
      "source": [
        "ml_dataframe.select(ml_col_to_use).show()"
      ],
      "metadata": {
        "colab": {
          "base_uri": "https://localhost:8080/"
        },
        "id": "pDATatrl-yQ2",
        "outputId": "efabd0ae-17db-4536-8675-58e16b1f7a1e"
      },
      "execution_count": null,
      "outputs": [
        {
          "output_type": "stream",
          "name": "stdout",
          "text": [
            "+-------+------+-----+----------+---------+------+---+-------+-----+----+-------+----------+------+------+-------+----+-------+-----+----------+-----+----+-----+----+-------+------+-------+--------+----+-----+----+------+-----+------+------+------+---------+-------+----+-------------+\n",
            "|County_|State_|  zip|         x|        y|Credit|WIC|WICcash|SFMNP|SNAP|Organic|Bakedgoods|Cheese|Crafts|Flowers|Eggs|Seafood|Herbs|Vegetables|Honey|Jams|Maple|Meat|Nursery|Plants|Poultry|Prepared|Soap|Trees|Wine|Coffee|Beans|Fruits|Grains|Juices|Mushrooms|PetFood|Tofu|WildHarvested|\n",
            "+-------+------+-----+----------+---------+------+---+-------+-----+----+-------+----------+------+------+-------+----+-------+-----+----------+-----+----+-----+----+-------+------+-------+--------+----+-----+----+------+-----+------+------+------+---------+-------+----+-------------+\n",
            "|  192.0|  14.0|55109|  -93.0877|  44.9609|     0|  0|      0|    0|   0|      0|         0|     0|     0|      0|   0|      0|    0|         0|    0|   0|    0|   0|      0|     0|      0|       0|   0|    0|   0|     0|    0|     0|     0|     0|        0|      0|   0|            0|\n",
            "|   17.0|   5.0| 1810| -71.14275|42.653633|     1|  1|      1|    1|   1|      1|         1|     1|     1|      1|   1|      1|    1|         1|    1|   1|    1|   1|      0|     0|      1|       1|   1|    0|   1|     1|    1|     1|     0|     1|        1|      0|   0|            0|\n",
            "|   59.0|   2.0|48462| -83.44381|42.852734|     1|  0|      0|    0|   0|      0|         1|     0|     1|      1|   1|      0|    1|         1|    1|   1|    0|   0|      0|     1|      0|       1|   1|    0|   0|     0|    0|     1|     0|     0|        0|      0|   0|            0|\n",
            "|  968.0|  15.0|46714| -85.17211| 40.74348|     1|  0|      0|    0|   0|      0|         1|     0|     1|      1|   1|      0|    0|         1|    1|   1|    0|   0|      0|     1|      0|       0|   1|    0|   0|     0|    0|     1|     0|     0|        0|      0|   0|            0|\n",
            "|   38.0|   1.0|10708| -73.83778|40.939995|     1|  1|      1|    1|   1|      1|         1|     0|     0|      1|   1|      1|    1|         1|    1|   1|    1|   1|      0|     1|      1|       1|   1|    0|   1|     1|    0|     1|     0|     1|        1|      0|   0|            1|\n",
            "|  738.0|  25.0|29812|-81.376114| 33.24369|     0|  0|      0|    0|   0|      0|         1|     1|     1|      1|   1|      1|    1|         1|    1|   1|    1|   0|      0|     1|      0|       1|   1|    1|   0|     1|    1|     1|     1|     0|        0|      0|   0|            0|\n",
            "|  848.0|   9.0|20110|-77.473076| 38.74949|     1|  0|      0|    0|   1|      0|         1|     1|     1|      1|   1|      0|    1|         1|    1|   1|    0|   1|      0|     1|      1|       1|   1|    0|   1|     0|    0|     1|     0|     0|        0|      0|   0|            0|\n",
            "|   73.0|   1.0|12529| -73.51748|42.170063|     1|  1|      1|    1|   1|      1|         1|     1|     1|      1|   1|      0|    1|         1|    1|   1|    1|   0|      0|     1|      1|       1|   1|    0|   1|     1|    0|     1|     0|     1|        1|      0|   0|            1|\n",
            "|  497.0|  13.0|52001|-90.666626|42.503983|     1|  0|      1|    0|   1|      1|         1|     1|     0|      0|   1|      0|    1|         1|    1|   1|    0|   1|      0|     1|      1|       1|   1|    0|   0|     0|    0|     0|     0|     0|        0|      0|   0|            0|\n",
            "|  334.0|  40.0|88001| -106.7897|32.326443|     1|  1|      0|    1|   1|      1|         1|     0|     1|      0|   1|      0|    1|         1|    1|   1|    0|   1|      0|     0|      0|       1|   1|    1|   0|     1|    0|     1|     0|     0|        0|      0|   0|            0|\n",
            "| 1058.0|  12.0|79510|  -99.4975|  32.4067|     1|  0|      0|    0|   0|      0|         0|     0|     0|      0|   0|      0|    0|         0|    0|   0|    0|   0|      0|     0|      0|       0|   0|    0|   0|     0|    0|     0|     0|     0|        0|      0|   0|            0|\n",
            "| 1524.0|   4.0|44882|-83.170006| 40.95094|     1|  0|      0|    0|   0|      0|         1|     0|     1|      0|   1|      0|    1|         1|    1|   1|    0|   0|      0|     1|      0|       0|   1|    1|   0|     0|    0|     1|     0|     0|        0|      0|   0|            0|\n",
            "|  296.0|  31.0| 4347|  -69.7899|  44.2868|     0|  0|      0|    0|   0|      0|         0|     0|     0|      0|   0|      0|    0|         0|    0|   0|    0|   0|      0|     0|      0|       0|   0|    0|   0|     0|    0|     0|     0|     0|        0|      0|   0|            0|\n",
            "|  632.0|  24.0|40831|-83.322495|36.845055|     1|  0|      0|    0|   0|      0|         1|     0|     1|      0|   1|      0|    1|         1|    1|   1|    1|   0|      0|     0|      0|       1|   1|    0|   0|     0|    0|     1|     0|     0|        1|      0|   0|            1|\n",
            "|   27.0|   1.0|11221| -73.94359| 40.69024|     0|  0|      0|    0|   0|      1|         0|     0|     0|      1|   1|      0|    1|         1|    1|   1|    1|   0|      0|     1|      0|       0|   1|    0|   0|     0|    0|     1|     0|     0|        0|      0|   0|            0|\n",
            "|   29.0|  14.0|56136| -96.42542| 44.50706|     1|  0|      0|    0|   0|      0|         1|     0|     0|      1|   0|      0|    1|         1|    0|   1|    0|   0|      0|     1|      0|       0|   0|    0|   0|     0|    0|     1|     0|     0|        0|      0|   0|            0|\n",
            "|  230.0|  22.0| 7302|  -74.0426|40.719658|     1|  1|      0|    0|   0|      1|         1|     1|     0|      1|   0|      1|    1|         1|    0|   1|    0|   1|      0|     1|      1|       0|   1|    1|   0|     1|    0|     1|     0|     0|        1|      0|   0|            1|\n",
            "|  358.0|   9.0|20110|  -77.4765|  38.7528|     0|  0|      0|    0|   0|      0|         0|     0|     0|      0|   0|      0|    0|         0|    0|   0|    0|   0|      0|     0|      0|       0|   0|    0|   0|     0|    0|     0|     0|     0|        0|      0|   0|            0|\n",
            "| 1222.0|  13.0|51445| -95.47087|42.345173|     1|  1|      0|    1|   0|      1|         1|     0|     1|      1|   1|      0|    0|         1|    1|   1|    0|   1|      0|     0|      1|       0|   1|    0|   1|     0|    1|     1|     0|     0|        0|      0|   0|            0|\n",
            "|  112.0|  20.0|97845|  -118.954|   44.416|     0|  0|      0|    0|   0|      0|         0|     0|     0|      0|   0|      0|    0|         0|    0|   0|    0|   0|      0|     0|      0|       0|   0|    0|   0|     0|    0|     0|     0|     0|        0|      0|   0|            0|\n",
            "+-------+------+-----+----------+---------+------+---+-------+-----+----+-------+----------+------+------+-------+----+-------+-----+----------+-----+----+-----+----+-------+------+-------+--------+----+-----+----+------+-----+------+------+------+---------+-------+----+-------------+\n",
            "only showing top 20 rows\n",
            "\n"
          ]
        }
      ]
    },
    {
      "cell_type": "code",
      "source": [
        "ml_dataframe = ml_dataframe.drop('WICcash', 'SFMNP', 'SNAP', 'WildHarvested', 'zip')"
      ],
      "metadata": {
        "id": "XORdb-AZ-PBx"
      },
      "execution_count": null,
      "outputs": []
    },
    {
      "cell_type": "code",
      "source": [
        "ml_col_to_use = list(set(ml_col_to_use).intersection(set(ml_dataframe.columns)))"
      ],
      "metadata": {
        "id": "REoM7YqM-P_r"
      },
      "execution_count": null,
      "outputs": []
    },
    {
      "cell_type": "code",
      "source": [
        "ml_dataframe.select(ml_col_to_use).show()"
      ],
      "metadata": {
        "id": "nQFvhH7YXBnC",
        "outputId": "d1548f8d-f27a-4d99-8856-5c675da8ebe1",
        "colab": {
          "base_uri": "https://localhost:8080/"
        }
      },
      "execution_count": null,
      "outputs": [
        {
          "output_type": "stream",
          "name": "stdout",
          "text": [
            "+-------+------+----------+-----+-------+---------+-------+---------+-------+----+-----+-----+-----+------+------+--------+-------+------+------+-----+-------+----+------+------+-------+------+---+----+-----+------+----+----+----------+----------+----+\n",
            "|Seafood|Coffee|Bakedgoods|Honey|Nursery|        y|Poultry|Mushrooms|County_|Tofu|  zip|Herbs|Maple|State_|Fruits|Prepared|Flowers|Juices|Crafts|Beans|PetFood|Eggs|Plants|Credit|Organic|Cheese|WIC|Wine|Trees|Grains|Jams|Meat|         x|Vegetables|Soap|\n",
            "+-------+------+----------+-----+-------+---------+-------+---------+-------+----+-----+-----+-----+------+------+--------+-------+------+------+-----+-------+----+------+------+-------+------+---+----+-----+------+----+----+----------+----------+----+\n",
            "|      0|     0|         0|    0|      0|  44.9609|      0|        0|  192.0|   0|55109|    0|    0|  14.0|     0|       0|      0|     0|     0|    0|      0|   0|     0|     0|      0|     0|  0|   0|    0|     0|   0|   0|  -93.0877|         0|   0|\n",
            "|      1|     1|         1|    1|      0|42.653633|      1|        1|   17.0|   0| 1810|    1|    1|   5.0|     1|       1|      1|     1|     1|    1|      0|   1|     0|     1|      1|     1|  1|   1|    0|     0|   1|   1| -71.14275|         1|   1|\n",
            "|      0|     0|         1|    1|      0|42.852734|      0|        0|   59.0|   0|48462|    1|    0|   2.0|     1|       1|      1|     0|     1|    0|      0|   1|     1|     1|      0|     0|  0|   0|    0|     0|   1|   0| -83.44381|         1|   1|\n",
            "|      0|     0|         1|    1|      0| 40.74348|      0|        0|  968.0|   0|46714|    0|    0|  15.0|     1|       0|      1|     0|     1|    0|      0|   1|     1|     1|      0|     0|  0|   0|    0|     0|   1|   0| -85.17211|         1|   1|\n",
            "|      1|     1|         1|    1|      0|40.939995|      1|        1|   38.0|   0|10708|    1|    1|   1.0|     1|       1|      1|     1|     0|    0|      0|   1|     1|     1|      1|     0|  1|   1|    0|     0|   1|   1| -73.83778|         1|   1|\n",
            "|      1|     1|         1|    1|      0| 33.24369|      0|        0|  738.0|   0|29812|    1|    1|  25.0|     1|       1|      1|     0|     1|    1|      0|   1|     1|     0|      0|     1|  0|   0|    1|     1|   1|   0|-81.376114|         1|   1|\n",
            "|      0|     0|         1|    1|      0| 38.74949|      1|        0|  848.0|   0|20110|    1|    0|   9.0|     1|       1|      1|     0|     1|    0|      0|   1|     1|     1|      0|     1|  0|   1|    0|     0|   1|   1|-77.473076|         1|   1|\n",
            "|      0|     1|         1|    1|      0|42.170063|      1|        1|   73.0|   0|12529|    1|    1|   1.0|     1|       1|      1|     1|     1|    0|      0|   1|     1|     1|      1|     1|  1|   1|    0|     0|   1|   0| -73.51748|         1|   1|\n",
            "|      0|     0|         1|    1|      0|42.503983|      1|        0|  497.0|   0|52001|    1|    0|  13.0|     0|       1|      0|     0|     0|    0|      0|   1|     1|     1|      1|     1|  0|   0|    0|     0|   1|   1|-90.666626|         1|   1|\n",
            "|      0|     1|         1|    1|      0|32.326443|      0|        0|  334.0|   0|88001|    1|    0|  40.0|     1|       1|      0|     0|     1|    0|      0|   1|     0|     1|      1|     0|  1|   0|    1|     0|   1|   1| -106.7897|         1|   1|\n",
            "|      0|     0|         0|    0|      0|  32.4067|      0|        0| 1058.0|   0|79510|    0|    0|  12.0|     0|       0|      0|     0|     0|    0|      0|   0|     0|     1|      0|     0|  0|   0|    0|     0|   0|   0|  -99.4975|         0|   0|\n",
            "|      0|     0|         1|    1|      0| 40.95094|      0|        0| 1524.0|   0|44882|    1|    0|   4.0|     1|       0|      0|     0|     1|    0|      0|   1|     1|     1|      0|     0|  0|   0|    1|     0|   1|   0|-83.170006|         1|   1|\n",
            "|      0|     0|         0|    0|      0|  44.2868|      0|        0|  296.0|   0| 4347|    0|    0|  31.0|     0|       0|      0|     0|     0|    0|      0|   0|     0|     0|      0|     0|  0|   0|    0|     0|   0|   0|  -69.7899|         0|   0|\n",
            "|      0|     0|         1|    1|      0|36.845055|      0|        1|  632.0|   0|40831|    1|    1|  24.0|     1|       1|      0|     0|     1|    0|      0|   1|     0|     1|      0|     0|  0|   0|    0|     0|   1|   0|-83.322495|         1|   1|\n",
            "|      0|     0|         0|    1|      0| 40.69024|      0|        0|   27.0|   0|11221|    1|    1|   1.0|     1|       0|      1|     0|     0|    0|      0|   1|     1|     0|      1|     0|  0|   0|    0|     0|   1|   0| -73.94359|         1|   1|\n",
            "|      0|     0|         1|    0|      0| 44.50706|      0|        0|   29.0|   0|56136|    1|    0|  14.0|     1|       0|      1|     0|     0|    0|      0|   0|     1|     1|      0|     0|  0|   0|    0|     0|   1|   0| -96.42542|         1|   0|\n",
            "|      1|     1|         1|    0|      0|40.719658|      1|        1|  230.0|   0| 7302|    1|    0|  22.0|     1|       0|      1|     0|     0|    0|      0|   0|     1|     1|      1|     1|  1|   0|    1|     0|   1|   1|  -74.0426|         1|   1|\n",
            "|      0|     0|         0|    0|      0|  38.7528|      0|        0|  358.0|   0|20110|    0|    0|   9.0|     0|       0|      0|     0|     0|    0|      0|   0|     0|     0|      0|     0|  0|   0|    0|     0|   0|   0|  -77.4765|         0|   0|\n",
            "|      0|     0|         1|    1|      0|42.345173|      1|        0| 1222.0|   0|51445|    0|    0|  13.0|     1|       0|      1|     0|     1|    1|      0|   1|     0|     1|      1|     0|  1|   1|    0|     0|   1|   1| -95.47087|         1|   1|\n",
            "|      0|     0|         0|    0|      0|   44.416|      0|        0|  112.0|   0|97845|    0|    0|  20.0|     0|       0|      0|     0|     0|    0|      0|   0|     0|     0|      0|     0|  0|   0|    0|     0|   0|   0|  -118.954|         0|   0|\n",
            "+-------+------+----------+-----+-------+---------+-------+---------+-------+----+-----+-----+-----+------+------+--------+-------+------+------+-----+-------+----+------+------+-------+------+---+----+-----+------+----+----+----------+----------+----+\n",
            "only showing top 20 rows\n",
            "\n"
          ]
        }
      ]
    },
    {
      "cell_type": "code",
      "source": [
        "dataframe_final = VectorAssembler(inputCols=ml_col_to_use, outputCol=\"features\").transform(ml_dataframe)"
      ],
      "metadata": {
        "id": "hGo_q65XZde9"
      },
      "execution_count": null,
      "outputs": []
    },
    {
      "cell_type": "code",
      "source": [
        "dataframe_final.show()"
      ],
      "metadata": {
        "colab": {
          "base_uri": "https://localhost:8080/"
        },
        "id": "GTrCEqkD9e0p",
        "outputId": "de6d4298-fbb2-4822-f348-7e53f3b7e2d9"
      },
      "execution_count": null,
      "outputs": [
        {
          "output_type": "stream",
          "name": "stdout",
          "text": [
            "+--------------+--------------+----------+---------+------+---+-------+----------+------+------+-------+----+-------+-----+----------+-----+----+-----+----+-------+------+-------+--------+----+-----+----+------+-----+------+------+------+---------+-------+----+-------+------+--------------------+\n",
            "|        County|         State|         x|        y|Credit|WIC|Organic|Bakedgoods|Cheese|Crafts|Flowers|Eggs|Seafood|Herbs|Vegetables|Honey|Jams|Maple|Meat|Nursery|Plants|Poultry|Prepared|Soap|Trees|Wine|Coffee|Beans|Fruits|Grains|Juices|Mushrooms|PetFood|Tofu|County_|State_|            features|\n",
            "+--------------+--------------+----------+---------+------+---+-------+----------+------+------+-------+----+-------+-----+----------+-----+----+-----+----+-------+------+-------+--------+----+-----+----+------+-----+------+------+------+---------+-------+----+-------+------+--------------------+\n",
            "|        Ramsey|     Minnesota|  -93.0877|  44.9609|     0|  0|      0|         0|     0|     0|      0|   0|      0|    0|         0|    0|   0|    0|   0|      0|     0|      0|       0|   0|    0|   0|     0|    0|     0|     0|     0|        0|      0|   0|  192.0|  14.0|(34,[5,8,12,31],[...|\n",
            "|         Essex| Massachusetts| -71.14275|42.653633|     1|  1|      1|         1|     1|     1|      1|   1|      1|    1|         1|    1|   1|    1|   1|      0|     0|      1|       1|   1|    0|   1|     1|    1|     1|     0|     1|        1|      0|   0|   17.0|   5.0|[1.0,1.0,1.0,1.0,...|\n",
            "|       Oakland|      Michigan| -83.44381|42.852734|     1|  0|      0|         1|     0|     1|      1|   1|      0|    1|         1|    1|   1|    0|   0|      0|     1|      0|       1|   1|    0|   0|     0|    0|     1|     0|     0|        0|      0|   0|   59.0|   2.0|(34,[2,3,5,8,10,1...|\n",
            "|         Wells|       Indiana| -85.17211| 40.74348|     1|  0|      0|         1|     0|     1|      1|   1|      0|    0|         1|    1|   1|    0|   0|      0|     1|      0|       0|   1|    0|   0|     0|    0|     1|     0|     0|        0|      0|   0|  968.0|  15.0|(34,[2,3,5,8,12,1...|\n",
            "|   Westchester|      New York| -73.83778|40.939995|     1|  1|      1|         1|     0|     0|      1|   1|      1|    1|         1|    1|   1|    1|   1|      0|     1|      1|       1|   1|    0|   1|     1|    0|     1|     0|     1|        1|      0|   0|   38.0|   1.0|[1.0,1.0,1.0,1.0,...|\n",
            "|      Barnwell|South Carolina|-81.376114| 33.24369|     0|  0|      0|         1|     1|     1|      1|   1|      1|    1|         1|    1|   1|    1|   0|      0|     1|      0|       1|   1|    1|   0|     1|    1|     1|     1|     0|        0|      0|   0|  738.0|  25.0|[1.0,1.0,1.0,1.0,...|\n",
            "|      Manassas|      Virginia|-77.473076| 38.74949|     1|  0|      0|         1|     1|     1|      1|   1|      0|    1|         1|    1|   1|    0|   1|      0|     1|      1|       1|   1|    0|   1|     0|    0|     1|     0|     0|        0|      0|   0|  848.0|   9.0|(34,[2,3,5,6,8,10...|\n",
            "|      Columbia|      New York| -73.51748|42.170063|     1|  1|      1|         1|     1|     1|      1|   1|      0|    1|         1|    1|   1|    1|   0|      0|     1|      1|       1|   1|    0|   1|     1|    0|     1|     0|     1|        1|      0|   0|   73.0|   1.0|[0.0,1.0,1.0,1.0,...|\n",
            "|       Dubuque|          Iowa|-90.666626|42.503983|     1|  0|      1|         1|     1|     0|      0|   1|      0|    1|         1|    1|   1|    0|   1|      0|     1|      1|       1|   1|    0|   0|     0|    0|     0|     0|     0|        0|      0|   0|  497.0|  13.0|(34,[2,3,5,6,8,10...|\n",
            "|      Dona Ana|    New Mexico| -106.7897|32.326443|     1|  1|      1|         1|     0|     1|      0|   1|      0|    1|         1|    1|   1|    0|   1|      0|     0|      0|       1|   1|    1|   0|     1|    0|     1|     0|     0|        0|      0|   0|  334.0|  40.0|(34,[1,2,3,5,8,10...|\n",
            "|      Callahan|         Texas|  -99.4975|  32.4067|     1|  0|      0|         0|     0|     0|      0|   0|      0|    0|         0|    0|   0|    0|   0|      0|     0|      0|       0|   0|    0|   0|     0|    0|     0|     0|     0|        0|      0|   0| 1058.0|  12.0|(34,[5,8,12,22,31...|\n",
            "|       Wyandot|          Ohio|-83.170006| 40.95094|     1|  0|      0|         1|     0|     1|      0|   1|      0|    1|         1|    1|   1|    0|   0|      0|     1|      0|       0|   1|    1|   0|     0|    0|     1|     0|     0|        0|      0|   0| 1524.0|   4.0|(34,[2,3,5,8,10,1...|\n",
            "|      Kennebec|         Maine|  -69.7899|  44.2868|     0|  0|      0|         0|     0|     0|      0|   0|      0|    0|         0|    0|   0|    0|   0|      0|     0|      0|       0|   0|    0|   0|     0|    0|     0|     0|     0|        0|      0|   0|  296.0|  31.0|(34,[5,8,12,31],[...|\n",
            "|        Harlan|      Kentucky|-83.322495|36.845055|     1|  0|      0|         1|     0|     1|      0|   1|      0|    1|         1|    1|   1|    1|   0|      0|     0|      0|       1|   1|    0|   0|     0|    0|     1|     0|     0|        1|      0|   0|  632.0|  24.0|(34,[2,3,5,7,8,10...|\n",
            "|         Kings|      New York| -73.94359| 40.69024|     0|  0|      1|         0|     0|     0|      1|   1|      0|    1|         1|    1|   1|    1|   0|      0|     1|      0|       0|   1|    0|   0|     0|    0|     1|     0|     0|        0|      0|   0|   27.0|   1.0|(34,[3,5,8,10,11,...|\n",
            "|       Lincoln|     Minnesota| -96.42542| 44.50706|     1|  0|      0|         1|     0|     0|      1|   0|      0|    1|         1|    0|   1|    0|   0|      0|     1|      0|       0|   0|    0|   0|     0|    0|     1|     0|     0|        0|      0|   0|   29.0|  14.0|(34,[2,5,8,10,12,...|\n",
            "|        Hudson|    New Jersey|  -74.0426|40.719658|     1|  1|      1|         1|     1|     0|      1|   0|      1|    1|         1|    0|   1|    0|   1|      0|     1|      1|       0|   1|    1|   0|     1|    0|     1|     0|     0|        1|      0|   0|  230.0|  22.0|[1.0,1.0,1.0,0.0,...|\n",
            "|Prince William|      Virginia|  -77.4765|  38.7528|     0|  0|      0|         0|     0|     0|      0|   0|      0|    0|         0|    0|   0|    0|   0|      0|     0|      0|       0|   0|    0|   0|     0|    0|     0|     0|     0|        0|      0|   0|  358.0|   9.0|(34,[5,8,12,31],[...|\n",
            "|           Ida|          Iowa| -95.47087|42.345173|     1|  1|      1|         1|     0|     1|      1|   1|      0|    0|         1|    1|   1|    0|   1|      0|     0|      1|       0|   1|    0|   1|     0|    1|     1|     0|     0|        0|      0|   0| 1222.0|  13.0|(34,[2,3,5,6,8,12...|\n",
            "|         Grant|        Oregon|  -118.954|   44.416|     0|  0|      0|         0|     0|     0|      0|   0|      0|    0|         0|    0|   0|    0|   0|      0|     0|      0|       0|   0|    0|   0|     0|    0|     0|     0|     0|        0|      0|   0|  112.0|  20.0|(34,[5,8,12,31],[...|\n",
            "+--------------+--------------+----------+---------+------+---+-------+----------+------+------+-------+----+-------+-----+----------+-----+----+-----+----+-------+------+-------+--------+----+-----+----+------+-----+------+------+------+---------+-------+----+-------+------+--------------------+\n",
            "only showing top 20 rows\n",
            "\n"
          ]
        }
      ]
    },
    {
      "cell_type": "code",
      "source": [
        "(dataframe_train, dataframe_test) = dataframe_final.randomSplit([0.9, 0.1])\n",
        "regression_r2_eval = RegressionEvaluator(labelCol=\"x\", predictionCol=\"prediction\", metricName=\"r2\")"
      ],
      "metadata": {
        "id": "VEMsEAnjZqyu"
      },
      "execution_count": null,
      "outputs": []
    },
    {
      "cell_type": "code",
      "source": [
        "# Print a message indicating the start of linear regression training\n",
        "print('Linear regression running')\n",
        "\n",
        "# Train a Linear Regression model using the specified features and label\n",
        "linear_model = LinearRegression(featuresCol='features', labelCol=\"x\").fit(dataframe_train)\n",
        "\n",
        "# Print a message indicating the prediction for the tested data\n",
        "print('Prediction for data tested')\n",
        "\n",
        "# Evaluate the Linear Regression model using R2 score on the test data and print the result\n",
        "print(\"Linear regression model >> R2 score:\", regression_r2_eval.evaluate(linear_model.transform(dataframe_test)))"
      ],
      "metadata": {
        "id": "2Ff6xy8GZ4bb",
        "colab": {
          "base_uri": "https://localhost:8080/"
        },
        "outputId": "28293ba4-1fd5-4885-cf7a-0b1fa65ebf3a"
      },
      "execution_count": null,
      "outputs": [
        {
          "output_type": "stream",
          "name": "stdout",
          "text": [
            "Linear regression training\n",
            "Prediction for data tested\n",
            "Linear regression model >> R2 score: 1.0\n"
          ]
        }
      ]
    },
    {
      "cell_type": "code",
      "source": [
        "# Print a message indicating the start of training the Random Forest model with training data\n",
        "print('Training Random Forest model with train data')\n",
        "\n",
        "# Train a Random Forest Regressor model using the specified features and label, with a specified number of bins\n",
        "random_forest = RandomForestRegressor(featuresCol='features', labelCol=\"x\", maxBins=7063).fit(dataframe_train)\n",
        "\n",
        "# Print a message indicating prediction for the test data\n",
        "print('Prediction for test data')\n",
        "\n",
        "# Evaluate the Random Forest Regressor model using R2 score on the test data and print the result\n",
        "print(\"Random regression forest model >> R2 score:\", regression_r2_eval.evaluate(random_forest.transform(dataframe_test)))\n"
      ],
      "metadata": {
        "id": "pAQydpFNa1dZ",
        "colab": {
          "base_uri": "https://localhost:8080/"
        },
        "outputId": "c1baba51-ac38-443b-80ab-939897327eaa"
      },
      "execution_count": null,
      "outputs": [
        {
          "output_type": "stream",
          "name": "stdout",
          "text": [
            "Training Random Forest model with train data\n",
            "Prediction for test data\n",
            "Random regression forest model >> R2 score: 0.9405754815272025\n"
          ]
        }
      ]
    },
    {
      "cell_type": "code",
      "source": [
        "# Print a message indicating the start of training the Gradient Boosting model with training data\n",
        "print('Training Gradient Boosting model with train data')\n",
        "\n",
        "# Train a Gradient Boosting Regressor model using the specified features and label, with a specified number of bins\n",
        "gradient_boosting = GBTRegressor(featuresCol='features', labelCol=\"x\", maxBins=7507).fit(dataframe_train)\n",
        "\n",
        "# Print a message indicating prediction for the test data\n",
        "print('Prediction for test data')\n",
        "\n",
        "# Evaluate the Gradient Boosting Regressor model using R2 score on the test data and print the result\n",
        "print(\"Gradient Boosting model >> R2 score:\", regression_r2_eval.evaluate(gradient_boosting.transform(dataframe_test)))\n"
      ],
      "metadata": {
        "id": "69pMX2sHbhtW",
        "colab": {
          "base_uri": "https://localhost:8080/"
        },
        "outputId": "3b7b5842-5f48-486e-ae3b-2418fced1dfa"
      },
      "execution_count": null,
      "outputs": [
        {
          "output_type": "stream",
          "name": "stdout",
          "text": [
            "Training Gradient Boosting model with train data\n",
            "Prediction for test data\n",
            "Gradient Boosting model >> R2 score: 0.9978746498249951\n"
          ]
        }
      ]
    },
    {
      "cell_type": "code",
      "source": [],
      "metadata": {
        "id": "XcVBo97F7Nua"
      },
      "execution_count": null,
      "outputs": []
    }
  ]
}